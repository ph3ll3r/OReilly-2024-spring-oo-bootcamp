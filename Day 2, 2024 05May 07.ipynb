{
 "cells": [
  {
   "cell_type": "markdown",
   "metadata": {},
   "source": [
    "# Object-oriented bootcamp, day 2\n",
    "\n",
    "0. Recap + Q&A\n",
    "1. Magic methods\n",
    "2. Class attributes\n",
    "3. Finding attributes with ICPO\n",
    "4. Inheritance -- what it is, and how it works (hint: ICPO)"
   ]
  },
  {
   "cell_type": "markdown",
   "metadata": {},
   "source": [
    "# Object recap\n",
    "\n",
    "The whole point of object-oriented programming is to create new types of data structures. These data structures contain within them the regular data structures that Python provides. So, what's the advantage?\n",
    "\n",
    "- By putting those core data structures (e.g., strings, lists, and dicts) inside of a class, we can think about and reason about our data at a higher level, and then use our class in other classes.\n",
    "- Methods are defined on the class, which means that they are tightly bound to a particular data type. This is as opposed to regular functions, which aren't connected to any particular type. You can call any function on any value, and it might or might not work. But if you try to call a method on a value for which it isn't defined, you'll get an error saying that it doesn't exist.\n",
    "- We will define classes, which are data types. A class is as type, and it's the factory that creates new objects. Each created object is called an \"instance.\"\n",
    "- The most important method in a class is `__init__`, whose job is to add attributes to a new instance.  If you create 5 new instances, then `__init__` runs five times, once per instance.\n",
    "- `__init__`, like all methods in Python, expects to get the instance on which we're running it as the first argument, assigned to the parameter `self`. (You don't have to use `self` as a name, but it's a very very strong convention.)\n",
    "- When we create/assign an attribute on `self`, we're adding to the private dictionary that the object has. This dict sticks around after `__init__`, and in general sticks around for the entire lifetime of the object.\n",
    "- Technically speaking, you don't need to define all attributes in `__init__`. At any time, in any place, you can add a new attribute to a Python object. However, it's a bad idea to do that; you should define your attributes all in `__init__` to make your code easier to understand.\n",
    "- To read from an attribute, just use `.NAME`, where `NAME` is the name of the attribute.\n",
    "- To set an attribute (i.e., to give it a new value), just assign to it.\n",
    "- To define a method, just define a function inside of the class body. The first parameter must be `self`, but all other parameters are standard for functions -- you can use defaults, `*args`, and `**kwargs` if you want."
   ]
  },
  {
   "cell_type": "code",
   "execution_count": 5,
   "metadata": {},
   "outputs": [],
   "source": [
    "class Person:\n",
    "    def __init__(self, name, shoe_size):\n",
    "        self.name = name     # I'm assigning the local variable / parameter name to the attribute self.name\n",
    "        self.shoe_size = shoe_size   # I'm assigning the local variable shoe_size to the attribute self.shoe_size\n",
    "\n",
    "    def greet(self):      # all methods are defined in the class, but invoked via the instance\n",
    "        return f'Hello, {self.name}!'\n",
    "\n",
    "p = Person('Reuven', 46)  # p is an instance of Person"
   ]
  },
  {
   "cell_type": "code",
   "execution_count": 6,
   "metadata": {},
   "outputs": [
    {
     "data": {
      "text/plain": [
       "'Reuven'"
      ]
     },
     "execution_count": 6,
     "metadata": {},
     "output_type": "execute_result"
    }
   ],
   "source": [
    "p.name   # retrieve the value of the attribut \"name\" on p"
   ]
  },
  {
   "cell_type": "code",
   "execution_count": 7,
   "metadata": {},
   "outputs": [
    {
     "data": {
      "text/plain": [
       "46"
      ]
     },
     "execution_count": 7,
     "metadata": {},
     "output_type": "execute_result"
    }
   ],
   "source": [
    "p.shoe_size "
   ]
  },
  {
   "cell_type": "code",
   "execution_count": 8,
   "metadata": {},
   "outputs": [
    {
     "ename": "AttributeError",
     "evalue": "'Person' object has no attribute 'last_name'",
     "output_type": "error",
     "traceback": [
      "\u001b[0;31m---------------------------------------------------------------------------\u001b[0m",
      "\u001b[0;31mAttributeError\u001b[0m                            Traceback (most recent call last)",
      "Cell \u001b[0;32mIn[8], line 1\u001b[0m\n\u001b[0;32m----> 1\u001b[0m \u001b[43mp\u001b[49m\u001b[38;5;241;43m.\u001b[39;49m\u001b[43mlast_name\u001b[49m  \u001b[38;5;66;03m# what happens if I retrieve this?\u001b[39;00m\n",
      "\u001b[0;31mAttributeError\u001b[0m: 'Person' object has no attribute 'last_name'"
     ]
    }
   ],
   "source": [
    "p.last_name  # what happens if I retrieve this?"
   ]
  },
  {
   "cell_type": "code",
   "execution_count": 9,
   "metadata": {},
   "outputs": [
    {
     "data": {
      "text/plain": [
       "'Hello, Reuven!'"
      ]
     },
     "execution_count": 9,
     "metadata": {},
     "output_type": "execute_result"
    }
   ],
   "source": [
    "p.greet()   "
   ]
  },
  {
   "cell_type": "code",
   "execution_count": 10,
   "metadata": {},
   "outputs": [
    {
     "data": {
      "text/plain": [
       "__main__.Person"
      ]
     },
     "execution_count": 10,
     "metadata": {},
     "output_type": "execute_result"
    }
   ],
   "source": [
    "# tell me the type of object I have stored in p\n",
    "type(p)"
   ]
  },
  {
   "cell_type": "markdown",
   "metadata": {},
   "source": [
    "# Methods \n",
    "\n",
    "Normally, methods are\n",
    "\n",
    "- Invoked via the instance\n",
    "- Defined on the class\n",
    "\n",
    "What we have seen so far, though, is *not* what Python calls a \"class methods.\" Rather, the class describes the behavior of our object, and thus it's the place where all of the methods are defined and stored."
   ]
  },
  {
   "cell_type": "markdown",
   "metadata": {},
   "source": [
    "# When do things exist?\n",
    "\n",
    "1. If you assign an attribute to an object in Python, that attribute (basically, a private dictionary with a key-value store) sticks around for the lifetime of the object -- unless you remove or change it. When we assign to `self.name`, that means the object currently referred to by `self` (the current instance) will have a `name` attribute until the attribute is removed or the object goes away. It's crucial, then, to assign to `self.SOMETHING` and not just `SOMETHING`.\n",
    "2. If you assign to just `SOMETHING` inside of a function or method, that is a local variable. The variable goes away when the method returns. It doesn't stick around at all."
   ]
  },
  {
   "cell_type": "code",
   "execution_count": 12,
   "metadata": {},
   "outputs": [
    {
     "data": {
      "text/plain": [
       "{'scoops': []}"
      ]
     },
     "execution_count": 12,
     "metadata": {},
     "output_type": "execute_result"
    }
   ],
   "source": [
    "class Bowl:\n",
    "    def __init__(self):\n",
    "        self.scoops = []   # here, we're assigning an attribute to self (the current instance). It'll stick around!\n",
    "        x = 100            # this is a local variable; x will go away when the function does, and any value it refers to is free from memory\n",
    "\n",
    "b = Bowl()\n",
    "vars(b)   # show me all of the attributes defined on b"
   ]
  },
  {
   "cell_type": "code",
   "execution_count": 13,
   "metadata": {},
   "outputs": [
    {
     "ename": "NameError",
     "evalue": "name 'x' is not defined",
     "output_type": "error",
     "traceback": [
      "\u001b[0;31m---------------------------------------------------------------------------\u001b[0m",
      "\u001b[0;31mNameError\u001b[0m                                 Traceback (most recent call last)",
      "Cell \u001b[0;32mIn[13], line 1\u001b[0m\n\u001b[0;32m----> 1\u001b[0m \u001b[43mx\u001b[49m\n",
      "\u001b[0;31mNameError\u001b[0m: name 'x' is not defined"
     ]
    }
   ],
   "source": [
    "x"
   ]
  },
  {
   "cell_type": "markdown",
   "metadata": {},
   "source": [
    "# Vocabulary\n",
    "\n",
    "- Arguments -- when we call a function, the values we pass to the function are called \"arguments.\" An argument can be an inline value, such as `5` or `'hello'`, but it can also be a variable, \n",
    "- Parameters\n",
    "- Attributes"
   ]
  }
 ],
 "metadata": {
  "kernelspec": {
   "display_name": "Python 3 (ipykernel)",
   "language": "python",
   "name": "python3"
  },
  "language_info": {
   "codemirror_mode": {
    "name": "ipython",
    "version": 3
   },
   "file_extension": ".py",
   "mimetype": "text/x-python",
   "name": "python",
   "nbconvert_exporter": "python",
   "pygments_lexer": "ipython3",
   "version": "3.12.1"
  }
 },
 "nbformat": 4,
 "nbformat_minor": 4
}
