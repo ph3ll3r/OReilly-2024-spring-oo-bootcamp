{
 "cells": [
  {
   "cell_type": "markdown",
   "metadata": {},
   "source": [
    "# Object-oriented bootcamp, day 2\n",
    "\n",
    "0. Recap + Q&A\n",
    "1. Magic methods\n",
    "2. Class attributes\n",
    "3. Finding attributes with ICPO\n",
    "4. Inheritance -- what it is, and how it works (hint: ICPO)"
   ]
  },
  {
   "cell_type": "markdown",
   "metadata": {},
   "source": [
    "# Object recap\n",
    "\n",
    "The whole point of object-oriented programming is to create new types of data structures. These data structures contain within them the regular data structures that Python provides. So, what's the advantage?\n",
    "\n",
    "- By putting those core data structures (e.g., strings, lists, and dicts) inside of a class, we can think about and reason about our data at a higher level, and then use our class in other classes.\n",
    "- Methods are defined on the class, which means that they are tightly bound to a particular data type. This is as opposed to regular functions, which aren't connected to any particular type. You can call any function on any value, and it might or might not work. But if you try to call a method on a value for which it isn't defined, you'll get an error saying that it doesn't exist.\n",
    "- We will define classes, which are data types. A class is as type, and it's the factory that creates new objects. Each created object is called an \"instance.\"\n",
    "- The most important method in a class is `__init__`, whose job is to add attributes to a new instance.  If you create 5 new instances, then `__init__` runs five times, once per instance.\n",
    "- `__init__`, like all methods in Python, expects to get the instance on which we're running it as the first argument, assigned to the parameter `self`. (You don't have to use `self` as a name, but it's a very very strong convention.)\n",
    "- When we create/assign an attribute on `self`, we're adding to the private dictionary that the object has. This dict sticks around after `__init__`, and in general sticks around for the entire lifetime of the object.\n",
    "- Technically speaking, you don't need to define all attributes in `__init__`. At any time, in any place, you can add a new attribute to a Python object. However, it's a bad idea to do that; you should define your attributes all in `__init__` to make your code easier to understand.\n",
    "- "
   ]
  }
 ],
 "metadata": {
  "kernelspec": {
   "display_name": "Python 3 (ipykernel)",
   "language": "python",
   "name": "python3"
  },
  "language_info": {
   "codemirror_mode": {
    "name": "ipython",
    "version": 3
   },
   "file_extension": ".py",
   "mimetype": "text/x-python",
   "name": "python",
   "nbconvert_exporter": "python",
   "pygments_lexer": "ipython3",
   "version": "3.12.1"
  }
 },
 "nbformat": 4,
 "nbformat_minor": 4
}
