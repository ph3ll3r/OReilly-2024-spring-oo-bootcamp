{
 "cells": [
  {
   "cell_type": "markdown",
   "metadata": {},
   "source": [
    "# Object-oriented bootcamp, day 2\n",
    "\n",
    "0. Recap + Q&A\n",
    "1. Magic methods\n",
    "2. Class attributes\n",
    "3. Finding attributes with ICPO\n",
    "4. Inheritance -- what it is, and how it works (hint: ICPO)"
   ]
  },
  {
   "cell_type": "markdown",
   "metadata": {},
   "source": [
    "# Object recap\n",
    "\n",
    "The whole point of object-oriented programming is to create new types of data structures. These data structures contain within them the regular data structures that Python provides. So, what's the advantage?\n",
    "\n",
    "- By putting those core data structures (e.g., strings, lists, and dicts) inside of a class, we can think about and reason about our data at a higher level, and then use our class in other classes.\n",
    "- Methods are defined on the class, which means that they are tightly bound to a particular data type. This is as opposed to regular functions, which aren't connected to any particular type. You can call any function on any value, and it might or might not work. But if you try to call a method on a value for which it isn't defined, you'll get an error saying that it doesn't exist.\n",
    "- We will define classes, which are data types. A class is as type, and it's the factory that creates new objects. Each created object is called an \"instance.\"\n",
    "- The most important method in a class is `__init__`, whose job is to add attributes to a new instance.  If you create 5 new instances, then `__init__` runs five times, once per instance.\n",
    "- `__init__`, like all methods in Python, expects to get the instance on which we're running it as the first argument, assigned to the parameter `self`. (You don't have to use `self` as a name, but it's a very very strong convention.)\n",
    "- When we create/assign an attribute on `self`, we're adding to the private dictionary that the object has. This dict sticks around after `__init__`, and in general sticks around for the entire lifetime of the object.\n",
    "- Technically speaking, you don't need to define all attributes in `__init__`. At any time, in any place, you can add a new attribute to a Python object. However, it's a bad idea to do that; you should define your attributes all in `__init__` to make your code easier to understand.\n",
    "- To read from an attribute, just use `.NAME`, where `NAME` is the name of the attribute.\n",
    "- To set an attribute (i.e., to give it a new value), just assign to it.\n",
    "- To define a method, just define a function inside of the class body. The first parameter must be `self`, but all other parameters are standard for functions -- you can use defaults, `*args`, and `**kwargs` if you want."
   ]
  },
  {
   "cell_type": "code",
   "execution_count": 5,
   "metadata": {},
   "outputs": [],
   "source": [
    "class Person:\n",
    "    def __init__(self, name, shoe_size):\n",
    "        self.name = name     # I'm assigning the local variable / parameter name to the attribute self.name\n",
    "        self.shoe_size = shoe_size   # I'm assigning the local variable shoe_size to the attribute self.shoe_size\n",
    "\n",
    "    def greet(self):      # all methods are defined in the class, but invoked via the instance\n",
    "        return f'Hello, {self.name}!'\n",
    "\n",
    "p = Person('Reuven', 46)  # p is an instance of Person"
   ]
  },
  {
   "cell_type": "code",
   "execution_count": 6,
   "metadata": {},
   "outputs": [
    {
     "data": {
      "text/plain": [
       "'Reuven'"
      ]
     },
     "execution_count": 6,
     "metadata": {},
     "output_type": "execute_result"
    }
   ],
   "source": [
    "p.name   # retrieve the value of the attribut \"name\" on p"
   ]
  },
  {
   "cell_type": "code",
   "execution_count": 7,
   "metadata": {},
   "outputs": [
    {
     "data": {
      "text/plain": [
       "46"
      ]
     },
     "execution_count": 7,
     "metadata": {},
     "output_type": "execute_result"
    }
   ],
   "source": [
    "p.shoe_size "
   ]
  },
  {
   "cell_type": "code",
   "execution_count": 8,
   "metadata": {},
   "outputs": [
    {
     "ename": "AttributeError",
     "evalue": "'Person' object has no attribute 'last_name'",
     "output_type": "error",
     "traceback": [
      "\u001b[0;31m---------------------------------------------------------------------------\u001b[0m",
      "\u001b[0;31mAttributeError\u001b[0m                            Traceback (most recent call last)",
      "Cell \u001b[0;32mIn[8], line 1\u001b[0m\n\u001b[0;32m----> 1\u001b[0m \u001b[43mp\u001b[49m\u001b[38;5;241;43m.\u001b[39;49m\u001b[43mlast_name\u001b[49m  \u001b[38;5;66;03m# what happens if I retrieve this?\u001b[39;00m\n",
      "\u001b[0;31mAttributeError\u001b[0m: 'Person' object has no attribute 'last_name'"
     ]
    }
   ],
   "source": [
    "p.last_name  # what happens if I retrieve this?"
   ]
  },
  {
   "cell_type": "code",
   "execution_count": 9,
   "metadata": {},
   "outputs": [
    {
     "data": {
      "text/plain": [
       "'Hello, Reuven!'"
      ]
     },
     "execution_count": 9,
     "metadata": {},
     "output_type": "execute_result"
    }
   ],
   "source": [
    "p.greet()   "
   ]
  },
  {
   "cell_type": "code",
   "execution_count": 10,
   "metadata": {},
   "outputs": [
    {
     "data": {
      "text/plain": [
       "__main__.Person"
      ]
     },
     "execution_count": 10,
     "metadata": {},
     "output_type": "execute_result"
    }
   ],
   "source": [
    "# tell me the type of object I have stored in p\n",
    "type(p)"
   ]
  },
  {
   "cell_type": "markdown",
   "metadata": {},
   "source": [
    "# Methods \n",
    "\n",
    "Normally, methods are\n",
    "\n",
    "- Invoked via the instance\n",
    "- Defined on the class\n",
    "\n",
    "What we have seen so far, though, is *not* what Python calls a \"class methods.\" Rather, the class describes the behavior of our object, and thus it's the place where all of the methods are defined and stored."
   ]
  },
  {
   "cell_type": "markdown",
   "metadata": {},
   "source": [
    "# When do things exist?\n",
    "\n",
    "1. If you assign an attribute to an object in Python, that attribute (basically, a private dictionary with a key-value store) sticks around for the lifetime of the object -- unless you remove or change it. When we assign to `self.name`, that means the object currently referred to by `self` (the current instance) will have a `name` attribute until the attribute is removed or the object goes away. It's crucial, then, to assign to `self.SOMETHING` and not just `SOMETHING`.\n",
    "2. If you assign to just `SOMETHING` inside of a function or method, that is a local variable. The variable goes away when the method returns. It doesn't stick around at all."
   ]
  },
  {
   "cell_type": "code",
   "execution_count": 12,
   "metadata": {},
   "outputs": [
    {
     "data": {
      "text/plain": [
       "{'scoops': []}"
      ]
     },
     "execution_count": 12,
     "metadata": {},
     "output_type": "execute_result"
    }
   ],
   "source": [
    "class Bowl:\n",
    "    def __init__(self):\n",
    "        self.scoops = []   # here, we're assigning an attribute to self (the current instance). It'll stick around!\n",
    "        x = 100            # this is a local variable; x will go away when the function does, and any value it refers to is free from memory\n",
    "\n",
    "b = Bowl()\n",
    "vars(b)   # show me all of the attributes defined on b"
   ]
  },
  {
   "cell_type": "code",
   "execution_count": 13,
   "metadata": {},
   "outputs": [
    {
     "ename": "NameError",
     "evalue": "name 'x' is not defined",
     "output_type": "error",
     "traceback": [
      "\u001b[0;31m---------------------------------------------------------------------------\u001b[0m",
      "\u001b[0;31mNameError\u001b[0m                                 Traceback (most recent call last)",
      "Cell \u001b[0;32mIn[13], line 1\u001b[0m\n\u001b[0;32m----> 1\u001b[0m \u001b[43mx\u001b[49m\n",
      "\u001b[0;31mNameError\u001b[0m: name 'x' is not defined"
     ]
    }
   ],
   "source": [
    "x"
   ]
  },
  {
   "cell_type": "markdown",
   "metadata": {},
   "source": [
    "# Vocabulary\n",
    "\n",
    "- Arguments -- when we call a function, the values we pass to the function are called \"arguments.\" An argument can be an inline value, such as `5` or `'hello'`, but it can also be a variable, which is then evaluated, and whose value is really passed. So if I say `func(5)`, `5` is the argument. If I say `func(x)`, then we'll get the value of `x`, and that will be passed to `func`.\n",
    "- Parameters -- when you call a function, the arguments are assigned to parameters, aka local variables whose names are set in the first line of a function definition, inside of `()`. A parameter is a local variable that is guaranteed to be assigned a value from the arguments, when the user invokes the function.\n",
    "- Attributes -- every object in Python has attributes. Its attributes are a private dictionary, except the syntax is different. We can retrieve attribute `b` from object `a` with `a.b`. Just as variables can contain absolutely any type of value in Python, so too can attributes contain any type of value. A big part of what a class does is set up the attributes on every new instance it creates. The way it does this is by assigning one or more attributes to `self` (the current instance) just after creating the instance in `__init__`."
   ]
  },
  {
   "cell_type": "code",
   "execution_count": 14,
   "metadata": {},
   "outputs": [],
   "source": [
    "class Person:\n",
    "    def __init__(self, name):\n",
    "        self.name = name\n",
    "        self.id_number = None   # why do this?\n",
    "\n"
   ]
  },
  {
   "cell_type": "markdown",
   "metadata": {},
   "source": [
    "The above, where we assign `None` to an attribute, basically allows us to say, \"Yes, I set all attributes in `__init__`,\" even when we don't know what the actual value will or should be. This is a great way to signal to people reading/maintaining your code that you will set that value in the future, but that new objects will have a value of `None`. "
   ]
  },
  {
   "cell_type": "markdown",
   "metadata": {},
   "source": [
    "# Namespaces\n",
    "\n",
    "When we say \n",
    "\n",
    "    type(p)\n",
    "\n",
    "we get\n",
    "\n",
    "    '__main__.Person'\n",
    "\n",
    "I said that `__main__` is a namespace. What is that? The answer is: Every variable in Python is inside of a namespace, meaning (basically) a category for variables. Namespaces ensure that if I work on a program and call my variable `x` and you work on a program and call your variable `x`, then when we combine forces (and software), our two `x` variables won't clash. This is known as a \"namespace collision.\" \n",
    "\n",
    "Python defines the `__main__` namespace by default when we start up. Every module you load with `import` has its own namespace to avoid collisions.\n",
    "\n",
    "You can think of namespaces as last names in the variable world.\n",
    "YOu can thi"
   ]
  },
  {
   "cell_type": "markdown",
   "metadata": {},
   "source": [
    "# What is a class?\n",
    "\n",
    "In many programming languages, a class describes what every object of a particular type should look like -- what its methods are, what its fields (attributes) will be, etc. \n",
    "\n",
    "But in Python, the class is an active, alive thing. It is actually an object, too! It executes at runtime when we create a new object.\n",
    "\n",
    "So perhaps in other languages it would make sense to call our class a blueprint. But in Python, it actively does things when the program runs, and so I feel good about calling it a factory."
   ]
  },
  {
   "cell_type": "markdown",
   "metadata": {},
   "source": [
    "# Class vs. function\n",
    "\n",
    "A function is a verb. We give it inputs, invoke it, and get outputs. \n",
    "\n",
    "By contrast, a class describes a new data type -- a noun! We can get many instances of that noun back when we invoke the class. But the class itself is a noun, and its methods are the verbs. \n",
    "\n",
    "I would say that methods are comparable to functions.\n",
    "\n",
    "But it is a reasonable question: When should I just write plain ol' functions and use regular core data structures in Python, and when should I define a class?\n",
    "\n",
    "There is no good answer.\n",
    "\n",
    "At some point, it becomes more maintainable, easier to understand, etc. to put your functionality in a class -- to define a data structure and methods, and use those. But if you want to write a program containing several "
   ]
  }
 ],
 "metadata": {
  "kernelspec": {
   "display_name": "Python 3 (ipykernel)",
   "language": "python",
   "name": "python3"
  },
  "language_info": {
   "codemirror_mode": {
    "name": "ipython",
    "version": 3
   },
   "file_extension": ".py",
   "mimetype": "text/x-python",
   "name": "python",
   "nbconvert_exporter": "python",
   "pygments_lexer": "ipython3",
   "version": "3.12.1"
  }
 },
 "nbformat": 4,
 "nbformat_minor": 4
}
