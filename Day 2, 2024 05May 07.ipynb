{
 "cells": [
  {
   "cell_type": "markdown",
   "metadata": {},
   "source": [
    "# Object-oriented bootcamp, day 2\n",
    "\n",
    "0. Recap + Q&A\n",
    "1. Magic methods\n",
    "2. Class attributes\n",
    "3. Finding attributes with ICPO\n",
    "4. Inheritance -- what it is, and how it works (hint: ICPO)"
   ]
  },
  {
   "cell_type": "markdown",
   "metadata": {},
   "source": [
    "# Object recap\n",
    "\n",
    "The whole point of object-oriented programming is to create new types of data structures. These data structures contain within them the regular data structures that Python provides. So, what's the advantage?\n",
    "\n",
    "- By putting those core data structures (e.g., strings, lists, and dicts) inside of a class, we can think about and reason about our data at a higher level, and then use our class in other classes.\n",
    "- "
   ]
  }
 ],
 "metadata": {
  "kernelspec": {
   "display_name": "Python 3 (ipykernel)",
   "language": "python",
   "name": "python3"
  },
  "language_info": {
   "codemirror_mode": {
    "name": "ipython",
    "version": 3
   },
   "file_extension": ".py",
   "mimetype": "text/x-python",
   "name": "python",
   "nbconvert_exporter": "python",
   "pygments_lexer": "ipython3",
   "version": "3.12.1"
  }
 },
 "nbformat": 4,
 "nbformat_minor": 4
}
