{
 "cells": [
  {
   "cell_type": "markdown",
   "metadata": {},
   "source": [
    "# Object-oriented bootcamp, day 2\n",
    "\n",
    "0. Recap + Q&A\n",
    "1. Magic methods\n",
    "2. Class attributes\n",
    "3. Finding attributes with ICPO\n",
    "4. Inheritance -- what it is, and how it works (hint: ICPO)"
   ]
  },
  {
   "cell_type": "markdown",
   "metadata": {},
   "source": [
    "# Object recap\n",
    "\n",
    "The whole point of object-oriented programming is to create new types of data structures. These data structures contain within them the regular data structures that Python provides. So, what's the advantage?\n",
    "\n",
    "- By putting those core data structures (e.g., strings, lists, and dicts) inside of a class, we can think about and reason about our data at a higher level, and then use our class in other classes.\n",
    "- Methods are defined on the class, which means that they are tightly bound to a particular data type. This is as opposed to regular functions, which aren't connected to any particular type. You can call any function on any value, and it might or might not work. But if you try to call a method on a value for which it isn't defined, you'll get an error saying that it doesn't exist.\n",
    "- We will define classes, which are data types. A class is as type, and it's the factory that creates new objects. Each created object is called an \"instance.\"\n",
    "- The most important method in a class is `__init__`, whose job is to add attributes to a new instance.  If you create 5 new instances, then `__init__` runs five times, once per instance.\n",
    "- `__init__`, like all methods in Python, expects to get the instance on which we're running it as the first argument, assigned to the parameter `self`. (You don't have to use `self` as a name, but it's a very very strong convention.)\n",
    "- When we create/assign an attribute on `self`, we're adding to the private dictionary that the object has. This dict sticks around after `__init__`, and in general sticks around for the entire lifetime of the object.\n",
    "- Technically speaking, you don't need to define all attributes in `__init__`. At any time, in any place, you can add a new attribute to a Python object. However, it's a bad idea to do that; you should define your attributes all in `__init__` to make your code easier to understand.\n",
    "- To read from an attribute, just use `.NAME`, where `NAME` is the name of the attribute.\n",
    "- To set an attribute (i.e., to give it a new value), just assign to it.\n",
    "- To define a method, just define a function inside of the class body. The first parameter must be `self`, but all other parameters are standard for functions -- you can use defaults, `*args`, and `**kwargs` if you want."
   ]
  },
  {
   "cell_type": "code",
   "execution_count": 5,
   "metadata": {},
   "outputs": [],
   "source": [
    "class Person:\n",
    "    def __init__(self, name, shoe_size):\n",
    "        self.name = name     # I'm assigning the local variable / parameter name to the attribute self.name\n",
    "        self.shoe_size = shoe_size   # I'm assigning the local variable shoe_size to the attribute self.shoe_size\n",
    "\n",
    "    def greet(self):      # all methods are defined in the class, but invoked via the instance\n",
    "        return f'Hello, {self.name}!'\n",
    "\n",
    "p = Person('Reuven', 46)  # p is an instance of Person"
   ]
  },
  {
   "cell_type": "code",
   "execution_count": 6,
   "metadata": {},
   "outputs": [
    {
     "data": {
      "text/plain": [
       "'Reuven'"
      ]
     },
     "execution_count": 6,
     "metadata": {},
     "output_type": "execute_result"
    }
   ],
   "source": [
    "p.name   # retrieve the value of the attribut \"name\" on p"
   ]
  },
  {
   "cell_type": "code",
   "execution_count": 7,
   "metadata": {},
   "outputs": [
    {
     "data": {
      "text/plain": [
       "46"
      ]
     },
     "execution_count": 7,
     "metadata": {},
     "output_type": "execute_result"
    }
   ],
   "source": [
    "p.shoe_size "
   ]
  },
  {
   "cell_type": "code",
   "execution_count": 8,
   "metadata": {},
   "outputs": [
    {
     "ename": "AttributeError",
     "evalue": "'Person' object has no attribute 'last_name'",
     "output_type": "error",
     "traceback": [
      "\u001b[0;31m---------------------------------------------------------------------------\u001b[0m",
      "\u001b[0;31mAttributeError\u001b[0m                            Traceback (most recent call last)",
      "Cell \u001b[0;32mIn[8], line 1\u001b[0m\n\u001b[0;32m----> 1\u001b[0m \u001b[43mp\u001b[49m\u001b[38;5;241;43m.\u001b[39;49m\u001b[43mlast_name\u001b[49m  \u001b[38;5;66;03m# what happens if I retrieve this?\u001b[39;00m\n",
      "\u001b[0;31mAttributeError\u001b[0m: 'Person' object has no attribute 'last_name'"
     ]
    }
   ],
   "source": [
    "p.last_name  # what happens if I retrieve this?"
   ]
  },
  {
   "cell_type": "code",
   "execution_count": 9,
   "metadata": {},
   "outputs": [
    {
     "data": {
      "text/plain": [
       "'Hello, Reuven!'"
      ]
     },
     "execution_count": 9,
     "metadata": {},
     "output_type": "execute_result"
    }
   ],
   "source": [
    "p.greet()   "
   ]
  },
  {
   "cell_type": "code",
   "execution_count": 10,
   "metadata": {},
   "outputs": [
    {
     "data": {
      "text/plain": [
       "__main__.Person"
      ]
     },
     "execution_count": 10,
     "metadata": {},
     "output_type": "execute_result"
    }
   ],
   "source": [
    "# tell me the type of object I have stored in p\n",
    "type(p)"
   ]
  },
  {
   "cell_type": "markdown",
   "metadata": {},
   "source": [
    "# Methods \n",
    "\n",
    "Normally, methods are\n",
    "\n",
    "- Invoked via the instance\n",
    "- Defined on the class\n",
    "\n",
    "What we have seen so far, though, is *not* what Python calls a \"class methods.\" Rather, the class describes the behavior of our object, and thus it's the place where all of the methods are defined and stored."
   ]
  },
  {
   "cell_type": "markdown",
   "metadata": {},
   "source": [
    "# When do things exist?\n",
    "\n",
    "1. If you assign an attribute to an object in Python, that attribute (basically, a private dictionary with a key-value store) sticks around for the lifetime of the object -- unless you remove or change it. When we assign to `self.name`, that means the object currently referred to by `self` (the current instance) will have a `name` attribute until the attribute is removed or the object goes away. It's crucial, then, to assign to `self.SOMETHING` and not just `SOMETHING`.\n",
    "2. If you assign to just `SOMETHING` inside of a function or method, that is a local variable. The variable goes away when the method returns. It doesn't stick around at all."
   ]
  },
  {
   "cell_type": "code",
   "execution_count": 12,
   "metadata": {},
   "outputs": [
    {
     "data": {
      "text/plain": [
       "{'scoops': []}"
      ]
     },
     "execution_count": 12,
     "metadata": {},
     "output_type": "execute_result"
    }
   ],
   "source": [
    "class Bowl:\n",
    "    def __init__(self):\n",
    "        self.scoops = []   # here, we're assigning an attribute to self (the current instance). It'll stick around!\n",
    "        x = 100            # this is a local variable; x will go away when the function does, and any value it refers to is free from memory\n",
    "\n",
    "b = Bowl()\n",
    "vars(b)   # show me all of the attributes defined on b"
   ]
  },
  {
   "cell_type": "code",
   "execution_count": 13,
   "metadata": {},
   "outputs": [
    {
     "ename": "NameError",
     "evalue": "name 'x' is not defined",
     "output_type": "error",
     "traceback": [
      "\u001b[0;31m---------------------------------------------------------------------------\u001b[0m",
      "\u001b[0;31mNameError\u001b[0m                                 Traceback (most recent call last)",
      "Cell \u001b[0;32mIn[13], line 1\u001b[0m\n\u001b[0;32m----> 1\u001b[0m \u001b[43mx\u001b[49m\n",
      "\u001b[0;31mNameError\u001b[0m: name 'x' is not defined"
     ]
    }
   ],
   "source": [
    "x"
   ]
  },
  {
   "cell_type": "markdown",
   "metadata": {},
   "source": [
    "# Vocabulary\n",
    "\n",
    "- Arguments -- when we call a function, the values we pass to the function are called \"arguments.\" An argument can be an inline value, such as `5` or `'hello'`, but it can also be a variable, which is then evaluated, and whose value is really passed. So if I say `func(5)`, `5` is the argument. If I say `func(x)`, then we'll get the value of `x`, and that will be passed to `func`.\n",
    "- Parameters -- when you call a function, the arguments are assigned to parameters, aka local variables whose names are set in the first line of a function definition, inside of `()`. A parameter is a local variable that is guaranteed to be assigned a value from the arguments, when the user invokes the function.\n",
    "- Attributes -- every object in Python has attributes. Its attributes are a private dictionary, except the syntax is different. We can retrieve attribute `b` from object `a` with `a.b`. Just as variables can contain absolutely any type of value in Python, so too can attributes contain any type of value. A big part of what a class does is set up the attributes on every new instance it creates. The way it does this is by assigning one or more attributes to `self` (the current instance) just after creating the instance in `__init__`."
   ]
  },
  {
   "cell_type": "code",
   "execution_count": 14,
   "metadata": {},
   "outputs": [],
   "source": [
    "class Person:\n",
    "    def __init__(self, name):\n",
    "        self.name = name\n",
    "        self.id_number = None   # why do this?\n",
    "\n"
   ]
  },
  {
   "cell_type": "markdown",
   "metadata": {},
   "source": [
    "The above, where we assign `None` to an attribute, basically allows us to say, \"Yes, I set all attributes in `__init__`,\" even when we don't know what the actual value will or should be. This is a great way to signal to people reading/maintaining your code that you will set that value in the future, but that new objects will have a value of `None`. "
   ]
  },
  {
   "cell_type": "markdown",
   "metadata": {},
   "source": [
    "# Namespaces\n",
    "\n",
    "When we say \n",
    "\n",
    "    type(p)\n",
    "\n",
    "we get\n",
    "\n",
    "    '__main__.Person'\n",
    "\n",
    "I said that `__main__` is a namespace. What is that? The answer is: Every variable in Python is inside of a namespace, meaning (basically) a category for variables. Namespaces ensure that if I work on a program and call my variable `x` and you work on a program and call your variable `x`, then when we combine forces (and software), our two `x` variables won't clash. This is known as a \"namespace collision.\" \n",
    "\n",
    "Python defines the `__main__` namespace by default when we start up. Every module you load with `import` has its own namespace to avoid collisions.\n",
    "\n",
    "You can think of namespaces as last names in the variable world.\n",
    "YOu can thi"
   ]
  },
  {
   "cell_type": "markdown",
   "metadata": {},
   "source": [
    "# What is a class?\n",
    "\n",
    "In many programming languages, a class describes what every object of a particular type should look like -- what its methods are, what its fields (attributes) will be, etc. \n",
    "\n",
    "But in Python, the class is an active, alive thing. It is actually an object, too! It executes at runtime when we create a new object.\n",
    "\n",
    "So perhaps in other languages it would make sense to call our class a blueprint. But in Python, it actively does things when the program runs, and so I feel good about calling it a factory."
   ]
  },
  {
   "cell_type": "markdown",
   "metadata": {},
   "source": [
    "# Class vs. function\n",
    "\n",
    "A function is a verb. We give it inputs, invoke it, and get outputs. \n",
    "\n",
    "By contrast, a class describes a new data type -- a noun! We can get many instances of that noun back when we invoke the class. But the class itself is a noun, and its methods are the verbs. \n",
    "\n",
    "I would say that methods are comparable to functions.\n",
    "\n",
    "But it is a reasonable question: When should I just write plain ol' functions and use regular core data structures in Python, and when should I define a class?\n",
    "\n",
    "There is no good answer.\n",
    "\n",
    "At some point, it becomes more maintainable, easier to understand, etc. to put your functionality in a class -- to define a data structure and methods, and use those. But if you want to write a program containing several functions, and just using a list of dicts? That's totally OK in the Python world."
   ]
  },
  {
   "cell_type": "markdown",
   "metadata": {},
   "source": [
    "# What do we call non object-oriented programming?\n",
    "\n",
    "If we call object-oriented programming \"OOP,\" then maybe we should call non-object oriented programming \"NOOP\"?\n",
    "\n",
    "There are at least two basic schools of thought that aren't OOP:\n",
    "\n",
    "- Procedural programming is the normal way that most people learn to program. They create (or use) data structures, they pass them to functions, and that's that.\n",
    "- Functional programming is actually an approach in which we pretend that all data is immutable, and we treat functions as first-class objects (i.e., we can pass them as arguments to other functions and we can return them as results from functions). Python is not a functional language, but it has facilities for functional programming, which I actually like a lot. Comprehensions are probably Python's best known functional functionality.\n",
    "\n",
    "Steve Yegge -- in the land of the nouns. "
   ]
  },
  {
   "cell_type": "markdown",
   "metadata": {},
   "source": [
    "Alan Turing -- he described what you need for a complete programming language. Any language that can do all of those things is known as \"Turing complete.\" Any Turing-complete language can do anything that any other Turing-complete language can do.\n",
    "\n",
    "If you can do it in C, then you can do it in Python, and vice versa.\n",
    "\n"
   ]
  },
  {
   "cell_type": "markdown",
   "metadata": {},
   "source": [
    "# Exercise: Cellphone\n",
    "\n",
    "1. Define a `Cellphone` class. Each instance will have two attributes:\n",
    "    - `number`\n",
    "    - `model`\n",
    "2. You should be able to invoke the `call` method on your phone. This will return a string saying 'Calling ....,\" and print the number.\n"
   ]
  },
  {
   "cell_type": "code",
   "execution_count": 15,
   "metadata": {},
   "outputs": [],
   "source": [
    "class Cellphone:\n",
    "    def __init__(self, number, model):\n",
    "        self.number = number\n",
    "        self.model = model\n",
    "\n",
    "c1 = Cellphone('12345', 'iPhone')\n",
    "c2 = Cellphone('67890', 'Samsung Galaxy')"
   ]
  },
  {
   "cell_type": "code",
   "execution_count": 16,
   "metadata": {},
   "outputs": [
    {
     "data": {
      "text/plain": [
       "{'number': '12345', 'model': 'iPhone'}"
      ]
     },
     "execution_count": 16,
     "metadata": {},
     "output_type": "execute_result"
    }
   ],
   "source": [
    "vars(c1)"
   ]
  },
  {
   "cell_type": "code",
   "execution_count": 17,
   "metadata": {},
   "outputs": [
    {
     "data": {
      "text/plain": [
       "{'number': '67890', 'model': 'Samsung Galaxy'}"
      ]
     },
     "execution_count": 17,
     "metadata": {},
     "output_type": "execute_result"
    }
   ],
   "source": [
    "vars(c2)"
   ]
  },
  {
   "cell_type": "code",
   "execution_count": 18,
   "metadata": {},
   "outputs": [
    {
     "data": {
      "text/plain": [
       "'12345'"
      ]
     },
     "execution_count": 18,
     "metadata": {},
     "output_type": "execute_result"
    }
   ],
   "source": [
    "c1.number"
   ]
  },
  {
   "cell_type": "code",
   "execution_count": 19,
   "metadata": {},
   "outputs": [
    {
     "data": {
      "text/plain": [
       "'67890'"
      ]
     },
     "execution_count": 19,
     "metadata": {},
     "output_type": "execute_result"
    }
   ],
   "source": [
    "c2.number"
   ]
  },
  {
   "cell_type": "code",
   "execution_count": 20,
   "metadata": {},
   "outputs": [
    {
     "data": {
      "text/plain": [
       "'iPhone'"
      ]
     },
     "execution_count": 20,
     "metadata": {},
     "output_type": "execute_result"
    }
   ],
   "source": [
    "c1.model"
   ]
  },
  {
   "cell_type": "code",
   "execution_count": 21,
   "metadata": {},
   "outputs": [
    {
     "data": {
      "text/plain": [
       "'Samsung Galaxy'"
      ]
     },
     "execution_count": 21,
     "metadata": {},
     "output_type": "execute_result"
    }
   ],
   "source": [
    "c2.model"
   ]
  },
  {
   "cell_type": "code",
   "execution_count": 26,
   "metadata": {},
   "outputs": [],
   "source": [
    "class Cellphone:\n",
    "    def __init__(self, number, model):\n",
    "        self.number = number\n",
    "        self.model = model\n",
    "\n",
    "    def call(self):\n",
    "        return f'Calling {self.number} on your {self.model}...'\n",
    "\n",
    "c1 = Cellphone('12345', 'iPhone')\n",
    "c2 = Cellphone('67890', 'Samsung Galaxy')"
   ]
  },
  {
   "cell_type": "code",
   "execution_count": 27,
   "metadata": {},
   "outputs": [
    {
     "name": "stdout",
     "output_type": "stream",
     "text": [
      "Calling 12345 on your iPhone...\n"
     ]
    }
   ],
   "source": [
    "print(c1.call())"
   ]
  },
  {
   "cell_type": "code",
   "execution_count": 28,
   "metadata": {},
   "outputs": [
    {
     "name": "stdout",
     "output_type": "stream",
     "text": [
      "Calling 67890 on your Samsung Galaxy...\n"
     ]
    }
   ],
   "source": [
    "print(c2.call())"
   ]
  },
  {
   "cell_type": "code",
   "execution_count": 31,
   "metadata": {},
   "outputs": [
    {
     "data": {
      "text/plain": [
       "'calling.........123'"
      ]
     },
     "execution_count": 31,
     "metadata": {},
     "output_type": "execute_result"
    }
   ],
   "source": [
    "# AD\n",
    "\n",
    "class Cellphone:\n",
    "    def __init__(self, number, model):\n",
    "        self.number = number\n",
    "        self.model = model\n",
    "        \n",
    "    def call(self):\n",
    "        return f\"calling.........{self.number}\"\n",
    "\n",
    "c = Cellphone('123', 'iPhone')\n",
    "c.call()"
   ]
  },
  {
   "cell_type": "code",
   "execution_count": 32,
   "metadata": {},
   "outputs": [
    {
     "name": "stdout",
     "output_type": "stream",
     "text": [
      "calling.........123\n"
     ]
    }
   ],
   "source": [
    "print(c.call())"
   ]
  },
  {
   "cell_type": "code",
   "execution_count": 33,
   "metadata": {},
   "outputs": [
    {
     "data": {
      "text/plain": [
       "'calling, 8888'"
      ]
     },
     "execution_count": 33,
     "metadata": {},
     "output_type": "execute_result"
    }
   ],
   "source": [
    "# KR\n",
    "\n",
    "class Cellphone:\n",
    "    def __init__(self, number, model):   # \"dunder\" means: two underscores before and after the name\n",
    "        self.number = number\n",
    "        self.model = model\n",
    "        \n",
    "    def call(self):\n",
    "        return f'calling, {self.number}'\n",
    "        \n",
    "c = Cellphone(8888, 'Nokia')\n",
    "\n",
    "c.call()"
   ]
  },
  {
   "cell_type": "markdown",
   "metadata": {},
   "source": [
    "# Next up\n",
    "\n",
    "- Magic methods\n",
    "- Class attributes\n",
    "- Searching for them with ICPO"
   ]
  },
  {
   "cell_type": "markdown",
   "metadata": {},
   "source": [
    "# Magic methods\n",
    "\n",
    "When we perform certain operations in Python, the language looks for a method with a specific name that implements that operation. These methods all start and end with double underscore, and are thus known as \"dunders\" or \"dunder methods.\" But a lot of people call them \"magic methods.\"\n",
    "\n",
    "There are a *lot* of magic methods -- something like 120 of them. Many of them are super advanced and/or weird and/or you'll never really use them. But there are a bunch that are used on nearly every class.\n",
    "\n",
    "For example, `__init__`! You can think of these magic methods as \"callbacks,\" methods that are invoked, if they exist, by specific parts of Python's object system. When your new object is created, if there is an `__init__` method, it is invoked. If not, then it isn't."
   ]
  },
  {
   "cell_type": "code",
   "execution_count": 34,
   "metadata": {},
   "outputs": [
    {
     "ename": "TypeError",
     "evalue": "object of type 'Person' has no len()",
     "output_type": "error",
     "traceback": [
      "\u001b[0;31m---------------------------------------------------------------------------\u001b[0m",
      "\u001b[0;31mTypeError\u001b[0m                                 Traceback (most recent call last)",
      "Cell \u001b[0;32mIn[34], line 6\u001b[0m\n\u001b[1;32m      3\u001b[0m         \u001b[38;5;28mself\u001b[39m\u001b[38;5;241m.\u001b[39mname \u001b[38;5;241m=\u001b[39m name\n\u001b[1;32m      5\u001b[0m p \u001b[38;5;241m=\u001b[39m Person(\u001b[38;5;124m'\u001b[39m\u001b[38;5;124mReuven\u001b[39m\u001b[38;5;124m'\u001b[39m)\n\u001b[0;32m----> 6\u001b[0m \u001b[38;5;28;43mlen\u001b[39;49m\u001b[43m(\u001b[49m\u001b[43mp\u001b[49m\u001b[43m)\u001b[49m  \u001b[38;5;66;03m# what is the length of our person?\u001b[39;00m\n",
      "\u001b[0;31mTypeError\u001b[0m: object of type 'Person' has no len()"
     ]
    }
   ],
   "source": [
    "class Person:\n",
    "    def __init__(self, name):\n",
    "        self.name = name\n",
    "\n",
    "p = Person('Reuven')\n",
    "len(p)  # what is the length of our person?"
   ]
  },
  {
   "cell_type": "markdown",
   "metadata": {},
   "source": [
    "# What happened here?\n",
    "\n",
    "We can call `len` on a wide variety of objects:\n",
    "\n",
    "- lists, where we get the number of elements\n",
    "- tuples, where we get the number of elements\n",
    "- dict, where we get the number of key-value pairs\n",
    "\n",
    "But if we call `len` on our `Person` object, we get an error.\n",
    "\n",
    "What if we want to provide `len` with something on our objects? We can define `__len__`. That's the magic method that `len` looks for.\n",
    "\n"
   ]
  },
  {
   "cell_type": "code",
   "execution_count": 44,
   "metadata": {},
   "outputs": [
    {
     "data": {
      "text/plain": [
       "6"
      ]
     },
     "execution_count": 44,
     "metadata": {},
     "output_type": "execute_result"
    }
   ],
   "source": [
    "class Person:\n",
    "    def __init__(self, name):\n",
    "        self.name = name\n",
    "\n",
    "    def __len__(self):   # I can return any non-negative integer I want, based on anything I want\n",
    "        return len(self.name)\n",
    "\n",
    "p = Person('Reuven')\n",
    "len(p)  # what is the length of our person?"
   ]
  },
  {
   "cell_type": "code",
   "execution_count": 39,
   "metadata": {},
   "outputs": [],
   "source": [
    "# len(p) -> p.__len__() -> len(p.name) -> p.name.__len__()"
   ]
  },
  {
   "cell_type": "code",
   "execution_count": 41,
   "metadata": {},
   "outputs": [
    {
     "data": {
      "text/plain": [
       "6"
      ]
     },
     "execution_count": 41,
     "metadata": {},
     "output_type": "execute_result"
    }
   ],
   "source": [
    "# don't do this!\n",
    "# you should not be invoking __len__ yourself, or almost any other magic method. Let Python do it for you.\n",
    "\n",
    "p.name.__len__()"
   ]
  },
  {
   "cell_type": "code",
   "execution_count": 42,
   "metadata": {},
   "outputs": [
    {
     "ename": "TypeError",
     "evalue": "object of type 'int' has no len()",
     "output_type": "error",
     "traceback": [
      "\u001b[0;31m---------------------------------------------------------------------------\u001b[0m",
      "\u001b[0;31mTypeError\u001b[0m                                 Traceback (most recent call last)",
      "Cell \u001b[0;32mIn[42], line 1\u001b[0m\n\u001b[0;32m----> 1\u001b[0m \u001b[38;5;28;43mlen\u001b[39;49m\u001b[43m(\u001b[49m\u001b[38;5;241;43m10\u001b[39;49m\u001b[43m)\u001b[49m\n",
      "\u001b[0;31mTypeError\u001b[0m: object of type 'int' has no len()"
     ]
    }
   ],
   "source": [
    "len(10)"
   ]
  },
  {
   "cell_type": "code",
   "execution_count": 45,
   "metadata": {},
   "outputs": [
    {
     "data": {
      "text/plain": [
       "'Reuven'"
      ]
     },
     "execution_count": 45,
     "metadata": {},
     "output_type": "execute_result"
    }
   ],
   "source": [
    "p.name"
   ]
  },
  {
   "cell_type": "code",
   "execution_count": 46,
   "metadata": {},
   "outputs": [
    {
     "data": {
      "text/plain": [
       "6"
      ]
     },
     "execution_count": 46,
     "metadata": {},
     "output_type": "execute_result"
    }
   ],
   "source": [
    "len(p.name)"
   ]
  },
  {
   "cell_type": "code",
   "execution_count": 47,
   "metadata": {},
   "outputs": [
    {
     "ename": "NameError",
     "evalue": "name 'self' is not defined",
     "output_type": "error",
     "traceback": [
      "\u001b[0;31m---------------------------------------------------------------------------\u001b[0m",
      "\u001b[0;31mNameError\u001b[0m                                 Traceback (most recent call last)",
      "Cell \u001b[0;32mIn[47], line 1\u001b[0m\n\u001b[0;32m----> 1\u001b[0m \u001b[38;5;28mlen\u001b[39m(\u001b[38;5;28;43mself\u001b[39;49m\u001b[38;5;241m.\u001b[39mname)\n",
      "\u001b[0;31mNameError\u001b[0m: name 'self' is not defined"
     ]
    }
   ],
   "source": [
    "len(self.name)"
   ]
  },
  {
   "cell_type": "markdown",
   "metadata": {},
   "source": [
    "# Another magic method: `__str__`\n",
    "\n",
    "When we turn our object into a string, what happens?"
   ]
  },
  {
   "cell_type": "code",
   "execution_count": 49,
   "metadata": {},
   "outputs": [
    {
     "data": {
      "text/plain": [
       "'<__main__.Person object at 0x112b624b0>'"
      ]
     },
     "execution_count": 49,
     "metadata": {},
     "output_type": "execute_result"
    }
   ],
   "source": [
    "str(p)  # yes, we get a string... but a really ugly one!"
   ]
  },
  {
   "cell_type": "code",
   "execution_count": 50,
   "metadata": {},
   "outputs": [
    {
     "data": {
      "text/plain": [
       "6"
      ]
     },
     "execution_count": 50,
     "metadata": {},
     "output_type": "execute_result"
    }
   ],
   "source": [
    "# we can, however, define the __str__ method\n",
    "# when we invoke str() on our object, the result of that method will be used instead\n",
    "\n",
    "class Person:\n",
    "    def __init__(self, name):\n",
    "        self.name = name\n",
    "\n",
    "    def __len__(self):   # I can return any non-negative integer I want, based on anything I want\n",
    "        return len(self.name)\n",
    "\n",
    "    def __str__(self):  # the returned string can be of *any* length; you can build it inside of the method, and then return it\n",
    "        return f'Person named {self.name}'\n",
    "\n",
    "p = Person('Reuven')\n",
    "len(p)  # what is the length of our person?"
   ]
  },
  {
   "cell_type": "code",
   "execution_count": 51,
   "metadata": {},
   "outputs": [
    {
     "data": {
      "text/plain": [
       "'Person named Reuven'"
      ]
     },
     "execution_count": 51,
     "metadata": {},
     "output_type": "execute_result"
    }
   ],
   "source": [
    "str(p)"
   ]
  },
  {
   "cell_type": "code",
   "execution_count": 52,
   "metadata": {},
   "outputs": [
    {
     "name": "stdout",
     "output_type": "stream",
     "text": [
      "Person named Reuven\n"
     ]
    }
   ],
   "source": [
    "print(p)   # print invokes str() on whatever it prints"
   ]
  },
  {
   "cell_type": "code",
   "execution_count": 53,
   "metadata": {},
   "outputs": [],
   "source": [
    "# what happens if I put p in a list?\n",
    "\n",
    "people = [p]"
   ]
  },
  {
   "cell_type": "code",
   "execution_count": 54,
   "metadata": {},
   "outputs": [
    {
     "name": "stdout",
     "output_type": "stream",
     "text": [
      "[<__main__.Person object at 0x112b61af0>]\n"
     ]
    }
   ],
   "source": [
    "print(people)  # let's print our list of people!"
   ]
  },
  {
   "cell_type": "markdown",
   "metadata": {},
   "source": [
    "# `__str__` vs. `__repr__`\n",
    "\n",
    "There are actually *two* methods that are used to convert an object into a string:\n",
    "\n",
    "- `__str__` is invoked by `str`, and also by `print` (because it invokes `str` on its arguments). This must return a string, and that string is meant for the end user to see. It's not supposed to contain internal, programmer stuff\n",
    "- `__repr__` is used by debuggers and Jupyter, and it is meant to show the printed representation of the data structure -- perfect for debugging and programming. This output should be good for programmers, not necessarily for end users.\n",
    "\n",
    "The Python convention is that `__repr__` should actually return something that we can evaluate as a short Python expression. I ignore this completely.\n",
    "\n",
    "What about the logic?\n",
    "\n",
    "- If we implement both `__str__` and `__repr__`, then we're great:\n",
    "    - In `str` and `print`, we'll see `__str__`\n",
    "    - In debugging and other programmatic places, we'll see `__repr__`\n",
    "- If we implement only `__str__`, then we get nice output for `str` and `print`, and we get ugly, default output for debugging\n",
    "- If we implement only `__repr__`, then it covers *all* cases for both `__repr__` and `__str__`.\n",
    "\n",
    "My suggestion: Only write `__repr__`, and have it return a string that's good for everyone.\n",
    "\n",
    "If and when you want to separate what is shown to users vs. programmers, you can always add `__str__`."
   ]
  },
  {
   "cell_type": "markdown",
   "metadata": {},
   "source": [
    "# Exercise: Magic methods on our cellphone\n",
    "\n",
    "1. Make it possible to invoke `len` on an instance of `Cellphone`. Return the length of the phone number.\n",
    "2. Make it possible to `print` an instance of `Cellphone`, which will show both the number and the model."
   ]
  },
  {
   "cell_type": "code",
   "execution_count": 61,
   "metadata": {},
   "outputs": [],
   "source": [
    "class Cellphone:\n",
    "    def __init__(self, number, model):\n",
    "        self.number = number\n",
    "        self.model = model\n",
    "\n",
    "    def call(self):\n",
    "        return f'Calling {self.number} on your {self.model}...'\n",
    "\n",
    "    def __len__(self):\n",
    "        return len(self.number)\n",
    "\n",
    "c1 = Cellphone('12345', 'iPhone')\n",
    "c2 = Cellphone('678900', 'Samsung Galaxy')"
   ]
  },
  {
   "cell_type": "code",
   "execution_count": 62,
   "metadata": {},
   "outputs": [
    {
     "data": {
      "text/plain": [
       "5"
      ]
     },
     "execution_count": 62,
     "metadata": {},
     "output_type": "execute_result"
    }
   ],
   "source": [
    "len(c1)"
   ]
  },
  {
   "cell_type": "code",
   "execution_count": 63,
   "metadata": {},
   "outputs": [
    {
     "data": {
      "text/plain": [
       "6"
      ]
     },
     "execution_count": 63,
     "metadata": {},
     "output_type": "execute_result"
    }
   ],
   "source": [
    "len(c2)"
   ]
  },
  {
   "cell_type": "code",
   "execution_count": 64,
   "metadata": {},
   "outputs": [
    {
     "name": "stdout",
     "output_type": "stream",
     "text": [
      "11\n",
      "Samsung\n"
     ]
    }
   ],
   "source": [
    "# AD\n",
    "\n",
    "class Cellphone:\n",
    "    def __init__(self, number, model):\n",
    "        self.number = number\n",
    "        self.model = model\n",
    "        \n",
    "    def __len__(self):\n",
    "        return len(str(self.number))\n",
    "        \n",
    "    def __str__(self):\n",
    "        return str(self.model)\n",
    "        \n",
    "P = Cellphone(57650000000,\"Samsung\")\n",
    "\n",
    "print(len(P))\n",
    "\n",
    "print(P)"
   ]
  },
  {
   "cell_type": "code",
   "execution_count": 65,
   "metadata": {},
   "outputs": [],
   "source": [
    "class Cellphone:\n",
    "    def __init__(self, number, model):\n",
    "        self.number = number\n",
    "        self.model = model\n",
    "\n",
    "    def call(self):\n",
    "        return f'Calling {self.number} on your {self.model}...'\n",
    "\n",
    "    def __len__(self):\n",
    "        return len(self.number)\n",
    "\n",
    "    def __repr__(self):\n",
    "        return f'{self.model}, phone number {self.number}'\n",
    "\n",
    "c1 = Cellphone('12345', 'iPhone')\n",
    "c2 = Cellphone('678900', 'Samsung Galaxy')"
   ]
  },
  {
   "cell_type": "code",
   "execution_count": 66,
   "metadata": {},
   "outputs": [
    {
     "name": "stdout",
     "output_type": "stream",
     "text": [
      "iPhone, phone number 12345\n"
     ]
    }
   ],
   "source": [
    "print(c1)"
   ]
  },
  {
   "cell_type": "code",
   "execution_count": 67,
   "metadata": {},
   "outputs": [
    {
     "name": "stdout",
     "output_type": "stream",
     "text": [
      "Samsung Galaxy, phone number 678900\n"
     ]
    }
   ],
   "source": [
    "print(c2)"
   ]
  },
  {
   "cell_type": "markdown",
   "metadata": {},
   "source": [
    "# One more magic method\n",
    "\n",
    "Why is it that we define lists with `[]`, but we retrieve from strings, lists, tuples, and dicts, with `[]`?\n",
    "\n",
    "The answer is that `[]` are turned into a method call, the method `__getitem__`. `__getitem__` takes two arguments:\n",
    "- `self`\n",
    "- `index`, what is passed inside of the square brackets"
   ]
  },
  {
   "cell_type": "code",
   "execution_count": 68,
   "metadata": {},
   "outputs": [
    {
     "data": {
      "text/plain": [
       "6"
      ]
     },
     "execution_count": 68,
     "metadata": {},
     "output_type": "execute_result"
    }
   ],
   "source": [
    "class Person:\n",
    "    def __init__(self, name):\n",
    "        self.name = name\n",
    "\n",
    "    def __len__(self):   # I can return any non-negative integer I want, based on anything I want\n",
    "        return len(self.name)\n",
    "\n",
    "    def __str__(self):  # the returned string can be of *any* length; you can build it inside of the method, and then return it\n",
    "        return f'Person named {self.name}'\n",
    "\n",
    "    def __getitem__(self, index):\n",
    "        return self.name[index]\n",
    "\n",
    "p = Person('Reuven')\n",
    "len(p)  # what is the length of our person?"
   ]
  },
  {
   "cell_type": "code",
   "execution_count": 69,
   "metadata": {},
   "outputs": [
    {
     "data": {
      "text/plain": [
       "'u'"
      ]
     },
     "execution_count": 69,
     "metadata": {},
     "output_type": "execute_result"
    }
   ],
   "source": [
    "p[2]  # same as saying p.__getitem__(2)"
   ]
  },
  {
   "cell_type": "code",
   "execution_count": 70,
   "metadata": {},
   "outputs": [
    {
     "data": {
      "text/plain": [
       "'euv'"
      ]
     },
     "execution_count": 70,
     "metadata": {},
     "output_type": "execute_result"
    }
   ],
   "source": [
    "p[1:4]  # same as saying p.__getitem__(slice(1, 4))"
   ]
  },
  {
   "cell_type": "code",
   "execution_count": 71,
   "metadata": {},
   "outputs": [
    {
     "name": "stdout",
     "output_type": "stream",
     "text": [
      "Hello, name1!\n",
      "Hello, name2!\n"
     ]
    }
   ],
   "source": [
    "class Person:\n",
    "    def __init__(self, name):\n",
    "        self.name = name\n",
    "    def greet(self):\n",
    "        return f'Hello, {self.name}!'\n",
    "\n",
    "p1 = Person('name1')\n",
    "p2 = Person('name2')\n",
    "\n",
    "print(p1.greet())\n",
    "print(p2.greet())"
   ]
  },
  {
   "cell_type": "code",
   "execution_count": 72,
   "metadata": {},
   "outputs": [
    {
     "name": "stdout",
     "output_type": "stream",
     "text": [
      "Before, population = 0\n"
     ]
    },
    {
     "ename": "UnboundLocalError",
     "evalue": "cannot access local variable 'population' where it is not associated with a value",
     "output_type": "error",
     "traceback": [
      "\u001b[0;31m---------------------------------------------------------------------------\u001b[0m",
      "\u001b[0;31mUnboundLocalError\u001b[0m                         Traceback (most recent call last)",
      "Cell \u001b[0;32mIn[72], line 14\u001b[0m\n\u001b[1;32m     11\u001b[0m         \u001b[38;5;28;01mreturn\u001b[39;00m \u001b[38;5;124mf\u001b[39m\u001b[38;5;124m'\u001b[39m\u001b[38;5;124mHello, \u001b[39m\u001b[38;5;132;01m{\u001b[39;00m\u001b[38;5;28mself\u001b[39m\u001b[38;5;241m.\u001b[39mname\u001b[38;5;132;01m}\u001b[39;00m\u001b[38;5;124m!\u001b[39m\u001b[38;5;124m'\u001b[39m\n\u001b[1;32m     13\u001b[0m \u001b[38;5;28mprint\u001b[39m(\u001b[38;5;124mf\u001b[39m\u001b[38;5;124m'\u001b[39m\u001b[38;5;124mBefore, population = \u001b[39m\u001b[38;5;132;01m{\u001b[39;00mpopulation\u001b[38;5;132;01m}\u001b[39;00m\u001b[38;5;124m'\u001b[39m)\n\u001b[0;32m---> 14\u001b[0m p1 \u001b[38;5;241m=\u001b[39m \u001b[43mPerson\u001b[49m\u001b[43m(\u001b[49m\u001b[38;5;124;43m'\u001b[39;49m\u001b[38;5;124;43mname1\u001b[39;49m\u001b[38;5;124;43m'\u001b[39;49m\u001b[43m)\u001b[49m\n\u001b[1;32m     15\u001b[0m p2 \u001b[38;5;241m=\u001b[39m Person(\u001b[38;5;124m'\u001b[39m\u001b[38;5;124mname2\u001b[39m\u001b[38;5;124m'\u001b[39m)\n\u001b[1;32m     16\u001b[0m \u001b[38;5;28mprint\u001b[39m(\u001b[38;5;124mf\u001b[39m\u001b[38;5;124m'\u001b[39m\u001b[38;5;124mAfter, population = \u001b[39m\u001b[38;5;132;01m{\u001b[39;00mpopulation\u001b[38;5;132;01m}\u001b[39;00m\u001b[38;5;124m'\u001b[39m)\n",
      "Cell \u001b[0;32mIn[72], line 9\u001b[0m, in \u001b[0;36mPerson.__init__\u001b[0;34m(self, name)\u001b[0m\n\u001b[1;32m      7\u001b[0m \u001b[38;5;28;01mdef\u001b[39;00m \u001b[38;5;21m__init__\u001b[39m(\u001b[38;5;28mself\u001b[39m, name):\n\u001b[1;32m      8\u001b[0m     \u001b[38;5;28mself\u001b[39m\u001b[38;5;241m.\u001b[39mname \u001b[38;5;241m=\u001b[39m name\n\u001b[0;32m----> 9\u001b[0m     \u001b[43mpopulation\u001b[49m \u001b[38;5;241m+\u001b[39m\u001b[38;5;241m=\u001b[39m \u001b[38;5;241m1\u001b[39m\n",
      "\u001b[0;31mUnboundLocalError\u001b[0m: cannot access local variable 'population' where it is not associated with a value"
     ]
    }
   ],
   "source": [
    "# we want to be able to track the number of people we've created\n",
    "# option 1: global variable\n",
    "\n",
    "population = 0   # set up the global variable\n",
    "\n",
    "class Person:\n",
    "    def __init__(self, name):\n",
    "        self.name = name\n",
    "        population += 1   # add 1 to the global population\n",
    "    def greet(self):\n",
    "        return f'Hello, {self.name}!'\n",
    "\n",
    "print(f'Before, population = {population}')\n",
    "p1 = Person('name1')\n",
    "p2 = Person('name2')\n",
    "print(f'After, population = {population}')\n",
    "\n",
    "print(p1.greet())\n",
    "print(p2.greet())"
   ]
  },
  {
   "cell_type": "code",
   "execution_count": 73,
   "metadata": {},
   "outputs": [
    {
     "name": "stdout",
     "output_type": "stream",
     "text": [
      "Before, population = 0\n",
      "After, population = 2\n",
      "Hello, name1!\n",
      "Hello, name2!\n"
     ]
    }
   ],
   "source": [
    "# we want to be able to track the number of people we've created\n",
    "# option 1: global variable (working version)\n",
    "# we need to indicate, in the function, that we want to be writing to the global variable population\n",
    "#  and not creating a local variable population, as well\n",
    "\n",
    "population = 0   # set up the global variable\n",
    "\n",
    "class Person:\n",
    "    def __init__(self, name):\n",
    "        global population   # this tells Python not to think of population as a local variable, but rather a global one\n",
    "        self.name = name\n",
    "        population += 1   # add 1 to the global population\n",
    "    def greet(self):\n",
    "        return f'Hello, {self.name}!'\n",
    "\n",
    "print(f'Before, population = {population}')\n",
    "p1 = Person('name1')\n",
    "p2 = Person('name2')\n",
    "print(f'After, population = {population}')\n",
    "\n",
    "print(p1.greet())\n",
    "print(p2.greet())"
   ]
  },
  {
   "cell_type": "markdown",
   "metadata": {},
   "source": [
    "We want to keep track of the population. We don't want it to be a global variable, which has many issues. Where could we store it, such that we could keep it separate from (and a little hidden from) other parts of the program?\n",
    "\n",
    "It might seem like we could assign it to an attribute on self. Except that won't work, because we don't want it to be set on any given `Person` object. Rather, it needs to be available to all of the `Person` objects.\n",
    "\n",
    "To put it a different way, this value shouldn't be on any instance. It should be somewhere obvious that is not on any instance, and is not global.\n",
    "\n",
    "Remember where I said that everything in Python is an object?\n",
    "\n",
    "And remember when I said that every object in Python has attributes?\n",
    "\n",
    "Yes, we can assign an attribute to `self`, thus creating the equivalent of an an instance variable.\n",
    "\n",
    "We can also assign an attribute to the *class*! This uses the class as a namespace, where the attribute is somewhat sheltered from the rest of the program, but also available for us to read/write, and also makes sense logically.\n",
    "\n",
    "Remember that we can always, at any point in any Python program, read from or write to any attribute we want."
   ]
  },
  {
   "cell_type": "code",
   "execution_count": 74,
   "metadata": {},
   "outputs": [
    {
     "name": "stdout",
     "output_type": "stream",
     "text": [
      "Before, population = 0\n",
      "After, population = 2\n",
      "Hello, name1!\n",
      "Hello, name2!\n"
     ]
    }
   ],
   "source": [
    "# we want to be able to track the number of people we've created\n",
    "# option 1: global variable (working version)\n",
    "# we need to indicate, in the function, that we want to be writing to the global variable population\n",
    "#  and not creating a local variable population, as well\n",
    "\n",
    "class Person:\n",
    "    def __init__(self, name):\n",
    "        self.name = name         # set an attribute on the instance\n",
    "        Person.population += 1   # set (update) an attribute on the Person class\n",
    "    def greet(self):\n",
    "        return f'Hello, {self.name}!'\n",
    "\n",
    "Person.population = 0   # set up the attribute in our Person class\n",
    "\n",
    "print(f'Before, population = {Person.population}')\n",
    "p1 = Person('name1')\n",
    "p2 = Person('name2')\n",
    "print(f'After, population = {Person.population}')\n",
    "\n",
    "print(p1.greet())\n",
    "print(p2.greet())"
   ]
  },
  {
   "cell_type": "code",
   "execution_count": null,
   "metadata": {},
   "outputs": [],
   "source": [
    "# option 3: Define the class, and define the \"population\" attribute\n",
    "# within it during the definition time\n",
    "\n",
    "class Person:\n",
    "    # any definition of what looks like a variable inside of a class\n",
    "    # is actually an assignment to a class attribute\n",
    "\n",
    "    population = 0   # set up the attribute in our Person class -- same as Person.population = 0\n",
    "\n",
    "    def __init__(self, name):\n",
    "        self.name = name         # set an attribute on the instance\n",
    "        Person.population += 1   # set (update) an attribute on the Person class\n",
    "    def greet(self):\n",
    "        return f'Hello, {self.name}!'\n",
    "\n",
    "\n",
    "print(f'Before, population = {Person.population}')\n",
    "p1 = Person('name1')\n",
    "p2 = Person('name2')\n",
    "print(f'After, population = {Person.population}')\n",
    "\n",
    "print(p1.greet())\n",
    "print(p2.greet())"
   ]
  },
  {
   "cell_type": "markdown",
   "metadata": {},
   "source": [
    "# Where do we use class attributes?\n",
    "\n",
    "1. Methods are all defined as class attributes.\n",
    "2. If you want to store common data that has to do with the class, then a class attribute is a good place to do it.\n",
    "3. If you want a constant (or a constant-like name/value) in your class, a class attribute is also a good technique."
   ]
  },
  {
   "cell_type": "code",
   "execution_count": 75,
   "metadata": {},
   "outputs": [],
   "source": [
    "class Thing:\n",
    "    def __init__(self, x):\n",
    "        self.x = x\n",
    "\n",
    "    def __str__(self):\n",
    "        return f'[str] x = {self.x}'\n",
    "\n",
    "    def __repr__(self):\n",
    "        return f'[repr] x = {self.x}'"
   ]
  },
  {
   "cell_type": "code",
   "execution_count": 76,
   "metadata": {},
   "outputs": [],
   "source": [
    "t = Thing(10)"
   ]
  },
  {
   "cell_type": "code",
   "execution_count": 77,
   "metadata": {},
   "outputs": [
    {
     "name": "stdout",
     "output_type": "stream",
     "text": [
      "[str] x = 10\n"
     ]
    }
   ],
   "source": [
    "print(t)"
   ]
  },
  {
   "cell_type": "code",
   "execution_count": 78,
   "metadata": {},
   "outputs": [
    {
     "data": {
      "text/plain": [
       "'[repr] x = 10'"
      ]
     },
     "execution_count": 78,
     "metadata": {},
     "output_type": "execute_result"
    }
   ],
   "source": [
    "repr(t)"
   ]
  },
  {
   "cell_type": "markdown",
   "metadata": {},
   "source": [
    "# Next up\n",
    "\n",
    "- Class attributes vs. instance attributes\n",
    "- Searching for attributes (ICPO rule)\n",
    "- Inheritance and different types of method inheritance\n",
    "- Magic methods and inheritance"
   ]
  },
  {
   "cell_type": "code",
   "execution_count": 80,
   "metadata": {},
   "outputs": [
    {
     "name": "stdout",
     "output_type": "stream",
     "text": [
      "Before, population = 0\n",
      "After, population = 2\n",
      "After, p1.population = 2\n",
      "After, p2.population = 2\n",
      "Hello, name1!\n",
      "Hello, name2!\n"
     ]
    }
   ],
   "source": [
    "class Person:\n",
    "    population = 0   # set up the attribute in our Person class -- same as Person.population = 0\n",
    "\n",
    "    def __init__(self, name):\n",
    "        self.name = name         # set an attribute on the instance\n",
    "        Person.population += 1   # set (update) an attribute on the Person class\n",
    "    def greet(self):\n",
    "        return f'Hello, {self.name}!'\n",
    "\n",
    "print(f'Before, population = {Person.population}')\n",
    "p1 = Person('name1')\n",
    "p2 = Person('name2')\n",
    "print(f'After, population = {Person.population}')\n",
    "print(f'After, p1.population = {p1.population}')\n",
    "print(f'After, p2.population = {p2.population}')\n",
    "\n",
    "print(p1.greet())\n",
    "\n",
    "print(p2.greet())"
   ]
  },
  {
   "cell_type": "markdown",
   "metadata": {},
   "source": [
    "# ICPO rule\n",
    "\n",
    "When we ask Python to retrieve an attribute from an object, it doesn't just look where we asked.\n",
    "\n",
    "It also looks on a few other objects, if it doesn't find it right away:\n",
    "\n",
    "- The first place it looks is on the object we asked for. If we ask for `Person.population`, Python asks `Person`: Do you have an attribute named `population`? The answer is \"yes.\" But if we ask for `p1.population`, Python asks `p1`: Do you have an attribute named `population`? The answer here is \"no.\"\n",
    "- Because we didn't find the attribute on the initial instance that we tried, we then turn to its class. That means we ask `type(p1)`: Do you have an attribute named `population`? The answer is: Yes!"
   ]
  },
  {
   "cell_type": "code",
   "execution_count": 81,
   "metadata": {},
   "outputs": [
    {
     "data": {
      "text/plain": [
       "type"
      ]
     },
     "execution_count": 81,
     "metadata": {},
     "output_type": "execute_result"
    }
   ],
   "source": [
    "# what is Person an instance of?\n",
    "type(Person)"
   ]
  },
  {
   "cell_type": "code",
   "execution_count": 82,
   "metadata": {},
   "outputs": [
    {
     "data": {
      "text/plain": [
       "type"
      ]
     },
     "execution_count": 82,
     "metadata": {},
     "output_type": "execute_result"
    }
   ],
   "source": [
    "type(str)"
   ]
  },
  {
   "cell_type": "code",
   "execution_count": 83,
   "metadata": {},
   "outputs": [
    {
     "data": {
      "text/plain": [
       "type"
      ]
     },
     "execution_count": 83,
     "metadata": {},
     "output_type": "execute_result"
    }
   ],
   "source": [
    "type(int)"
   ]
  },
  {
   "cell_type": "code",
   "execution_count": 84,
   "metadata": {},
   "outputs": [
    {
     "data": {
      "text/plain": [
       "type"
      ]
     },
     "execution_count": 84,
     "metadata": {},
     "output_type": "execute_result"
    }
   ],
   "source": [
    "type(dict)"
   ]
  },
  {
   "cell_type": "code",
   "execution_count": 85,
   "metadata": {},
   "outputs": [
    {
     "data": {
      "text/plain": [
       "type"
      ]
     },
     "execution_count": 85,
     "metadata": {},
     "output_type": "execute_result"
    }
   ],
   "source": [
    "# every single class in Python is an instance of type!\n",
    "\n",
    "# wait... so what is the type of type?\n",
    "type(type)"
   ]
  },
  {
   "cell_type": "code",
   "execution_count": null,
   "metadata": {},
   "outputs": [],
   "source": []
  }
 ],
 "metadata": {
  "kernelspec": {
   "display_name": "Python 3 (ipykernel)",
   "language": "python",
   "name": "python3"
  },
  "language_info": {
   "codemirror_mode": {
    "name": "ipython",
    "version": 3
   },
   "file_extension": ".py",
   "mimetype": "text/x-python",
   "name": "python",
   "nbconvert_exporter": "python",
   "pygments_lexer": "ipython3",
   "version": "3.12.1"
  }
 },
 "nbformat": 4,
 "nbformat_minor": 4
}
