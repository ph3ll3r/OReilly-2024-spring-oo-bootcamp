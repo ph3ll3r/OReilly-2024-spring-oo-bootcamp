{
 "cells": [
  {
   "cell_type": "markdown",
   "metadata": {},
   "source": [
    "# Object-oriented bootcamp, day 1\n"
   ]
  },
  {
   "cell_type": "markdown",
   "metadata": {},
   "source": [
    "# Agenda\n",
    "\n",
    "1. Intro to objects\n",
    "    - What are objects?\n",
    "    - In Python, everything is an object\n",
    "    - Creating your own data structures...\n",
    "    - ...creating data structures using classes and objects\n",
    "    - What happens when you create a new object?\n",
    "    - Attributes\n",
    "    - Complex objects and composition\n",
    "2. Methods\n",
    "    - Writing methods\n",
    "    - The `self` parameter\n",
    "    - Other parameters, and other arguments\n",
    "3. Magic methods\n",
    "4. Class attributes\n",
    "5. Attribute lookup (ICPO rule)\n",
    "6. Inheritance\n",
    "    - The three paradigms of method inheritance\n",
    "    - Attribute inheritance\n",
    "8. Next steps -- where to from here?"
   ]
  },
  {
   "cell_type": "markdown",
   "metadata": {},
   "source": [
    "# Jupyter \n",
    "\n",
    "Jupyter is a Web-based tool for writing Python code.  If you can install Jupyter yourself, then great! You don't have to, though -- if you want to use PyCharm or VSCode, then that's fine, as well. (VSCode has a free plugin for Jupyter, if you want.)\n",
    "\n",
    "If you want to use a notebook and don't have Jupyter installed, you can use Google Colab. \n",
    "\n",
    "I can use Jupyter for both text/documentation (in \"Markdown\" mode) and also for Python code (in \"code\" mode). I can switch between the two with the menu at the top of the page.\n",
    "\n",
    "To indicate that I'm done editing a cell, I use shift+Enter."
   ]
  },
  {
   "cell_type": "code",
   "execution_count": 1,
   "metadata": {},
   "outputs": [
    {
     "name": "stdout",
     "output_type": "stream",
     "text": [
      "Hello, world!\n"
     ]
    }
   ],
   "source": [
    "# now I'm in a code cell\n",
    "\n",
    "print('Hello, world!')  # shift + enter executes the code"
   ]
  },
  {
   "cell_type": "code",
   "execution_count": 2,
   "metadata": {},
   "outputs": [
    {
     "name": "stdout",
     "output_type": "stream",
     "text": [
      "100\n"
     ]
    }
   ],
   "source": [
    "x = 100\n",
    "\n",
    "print(x)"
   ]
  },
  {
   "cell_type": "code",
   "execution_count": 3,
   "metadata": {},
   "outputs": [
    {
     "data": {
      "text/plain": [
       "100"
      ]
     },
     "execution_count": 3,
     "metadata": {},
     "output_type": "execute_result"
    }
   ],
   "source": [
    "# in Jupyter, if the final line of a code cell is an expression, we see the value right away.\n",
    "\n",
    "x    "
   ]
  },
  {
   "cell_type": "code",
   "execution_count": 4,
   "metadata": {},
   "outputs": [
    {
     "data": {
      "text/plain": [
       "1000000"
      ]
     },
     "execution_count": 4,
     "metadata": {},
     "output_type": "execute_result"
    }
   ],
   "source": [
    "x**3"
   ]
  },
  {
   "cell_type": "markdown",
   "metadata": {},
   "source": [
    "# What are objects?\n",
    "\n",
    "Software has always been difficult to write, and even more difficult to maintain. Trying to find ways to maintain software has been going on for decades already.\n",
    "\n",
    "Organizing code so that you can find bugs and improve the code is crucial.\n",
    "\n",
    "Back in the 1970s, people were thinking about this. One of those people is named Alan Kay. Alan Kay didn't work on the front end of things, that end users would see. Rather, the thought about how to design software. He thought that it would be easier to maintain software if we could mimic the organization of a biological structure.\n",
    "\n",
    "Kay said that we could structure our programs like the human body, or an animal:\n",
    "\n",
    "- Our body has many different types of cells. Each type of cell sends and receives different types of messages.\n",
    "- We could structure our programs such that they contained different kinds of cells, each of which sent and received different kinds of messages.\n",
    "\n",
    "You can imagine:\n",
    "- User \"cell\" that would send some messages, and receive others\n",
    "- Security \"cell\" that would send some messages, and receive others\n",
    "\n",
    "This was the beginning of object-oriented programming:\n",
    "- The \"cells\" were called \"objects.\" Each thing in your program, each data structure, is actually a combination of data + actions (messages it can send, and messages it can receive)\n",
    "- You'll have many cells of the same type. Each type of cell was known as a \"class.\"\n",
    "- Kay talked about sending messages. But nowadays, we talk about \"calling methods.\"\n",
    "\n",
    "Kay created a programming language called Smalltalk.\n",
    "\n",
    "Python is object-oriented, meaning that it takes some inspiration from Smalltalk's ideas. But it has differnet ideas about how to go about implementing objects.\n",
    "\n",
    "Object-oriented programming is *NOT* a panacea for software problems. It is also not a religion.\n",
    "\n",
    "Object-oriented programming is a TECHNIQUE for MANAGING YOUR SOFTWARE CODE.\n",
    "\n",
    "This means that if you write a tiny program, you probably don't need to use objects. But it means that if you want to take advantage of someone else's code, and they did use objects, you'll likely want to do that.\n",
    "\n"
   ]
  },
  {
   "cell_type": "markdown",
   "metadata": {},
   "source": [
    "# Everything is an object -- what does that mean, and so what?\n",
    "\n",
    "In Python, everything (just about) is an object. What does that mean?\n",
    "\n",
    "- It means that we can apply the same rules to the data provided by Python as the data we create ourselves\n",
    "- It means that the same rules apply to Python's own stuff and our stuff\n",
    "- That makes it easier to understand the system, and for us extend/improve it.\n",
    "\n",
    "It also means that once you learn the rules for how things inside of Python work, you'll find that those rules are very consistent for your data sturctures, as well.\n",
    "\n",
    "We'll see that we can create classes (i.e., new data types) that follow the same rules as Python's built in data types, and work in the same ways.\n",
    "\n",
    "When I say \"provided by Python,\" I mean:\n",
    "\n",
    "- builtin data structures (e.g., int, str, dict, list)\n",
    "- builtin functions (e.g., print, len)\n",
    "- things that come in the standard library (`import random`, for example)"
   ]
  },
  {
   "cell_type": "markdown",
   "metadata": {},
   "source": [
    "# Vocabulary\n",
    "\n",
    "In Python, there are several special vocabulary words we need to talk about objects:\n",
    "\n",
    "- `class` and `type`: These are basically interchangeable words when we're talking about the program, but they are used differently when we are actually coding. We can think of a class as a factory for objects. So `str` is a class that creates new string objects. And `int` is a class that creates new integer objects. In fact, when you call `int('5')`, you are saying: I want to create a new integer based on the string `'5'`. When we invoke a class as a function, with `()`, we are creating a new object of that type.\n",
    "- `instance`: When we create a new string object, we can also call that an \"instance of `str`.\" When we create a new integer object, we can call that new object an \"instance of `int`.\" In other words, an instance is an object that was created by a class.\n",
    "- `object`: Classes and instances are both objects. The term \"object\" is a catchall for just about everything in Python."
   ]
  },
  {
   "cell_type": "code",
   "execution_count": 5,
   "metadata": {},
   "outputs": [
    {
     "data": {
      "text/plain": [
       "str"
      ]
     },
     "execution_count": 5,
     "metadata": {},
     "output_type": "execute_result"
    }
   ],
   "source": [
    "# how do we find out the type of an object?\n",
    "# answer: We ask it!\n",
    "\n",
    "s = 'abcde'\n",
    "type(s)   # here, we're using the \"type\" function to tell us: What kind of data is in s?"
   ]
  },
  {
   "cell_type": "code",
   "execution_count": 6,
   "metadata": {},
   "outputs": [
    {
     "data": {
      "text/plain": [
       "dict"
      ]
     },
     "execution_count": 6,
     "metadata": {},
     "output_type": "execute_result"
    }
   ],
   "source": [
    "# this means: s contains a string object, aka an instance of str. When we ask for type(s), we get str back,\n",
    "# because that is the class of our object.\n",
    "\n",
    "d = {'a':100, 'b':200, 'c':300}\n",
    "type(d)"
   ]
  },
  {
   "cell_type": "code",
   "execution_count": 12,
   "metadata": {},
   "outputs": [],
   "source": [
    "# d's class/type is dict. That means d is a variable rerferring an an instance of dict. "
   ]
  },
  {
   "cell_type": "markdown",
   "metadata": {},
   "source": [
    "# What do we care?\n",
    "\n",
    "The type/class of an object determines its functionality:\n",
    "\n",
    "- How we create a new instance of this object\n",
    "- What methods (functions) have been defined for it\n",
    "    - What arguments do they get?\n",
    "    - What outputs do they give us?\n",
    "- What data is defined on each of these objects -- in what we call \"attributes\"\n",
    "\n",
    "\n",
    "If you're still thinking of the cell metaphor, then the \"type of cell\" determines the behavior and what kinds of data will be stored there. \n",
    "\n",
    "If you want to think of it as a factory, then think of each car factory producing different kinds of cars. If you have a Toyota, then it came out of a Toyota factory. Your car is an instance of Toyota. In this case, every instance of Toyota would have a VIN. That would be an attribute on the instance, because very single car has (or should have!) a unique number.\n"
   ]
  },
  {
   "cell_type": "code",
   "execution_count": 9,
   "metadata": {},
   "outputs": [
    {
     "data": {
      "text/plain": [
       "int"
      ]
     },
     "execution_count": 9,
     "metadata": {},
     "output_type": "execute_result"
    }
   ],
   "source": [
    "x = 100\n",
    "\n",
    "type(x)  # it's easy to think: x is an integer. Really, though, x is a variable referring to an integer"
   ]
  },
  {
   "cell_type": "code",
   "execution_count": 11,
   "metadata": {},
   "outputs": [
    {
     "data": {
      "text/plain": [
       "4"
      ]
     },
     "execution_count": 11,
     "metadata": {},
     "output_type": "execute_result"
    }
   ],
   "source": [
    "s = 'abcd'\n",
    "len(s)  # this is not a method; this is a builtin function. You can always identify a method as having a a . before its name"
   ]
  },
  {
   "cell_type": "markdown",
   "metadata": {},
   "source": [
    "# We don't need objects!\n",
    "\n",
    "Object-oriented programming is an organizational technique for our code. But we can (if we want) get along OK without it.\n",
    "\n",
    "For example, let's say I want to keep track of people. I can use a tuple for that."
   ]
  },
  {
   "cell_type": "code",
   "execution_count": 13,
   "metadata": {},
   "outputs": [
    {
     "data": {
      "text/plain": [
       "'Reuven'"
      ]
     },
     "execution_count": 13,
     "metadata": {},
     "output_type": "execute_result"
    }
   ],
   "source": [
    "p = ('Reuven', 'Lerner', 46)\n",
    "p[0]  # this gives me the first name"
   ]
  },
  {
   "cell_type": "code",
   "execution_count": 15,
   "metadata": {},
   "outputs": [
    {
     "data": {
      "text/plain": [
       "'Lerner'"
      ]
     },
     "execution_count": 15,
     "metadata": {},
     "output_type": "execute_result"
    }
   ],
   "source": [
    "p[1]   # this gives me the last name"
   ]
  },
  {
   "cell_type": "code",
   "execution_count": 16,
   "metadata": {},
   "outputs": [
    {
     "data": {
      "text/plain": [
       "46"
      ]
     },
     "execution_count": 16,
     "metadata": {},
     "output_type": "execute_result"
    }
   ],
   "source": [
    "p[2]   # this gives me the shoe size"
   ]
  },
  {
   "cell_type": "code",
   "execution_count": 17,
   "metadata": {},
   "outputs": [],
   "source": [
    "def fullname(person_tuple):\n",
    "    return f'{person_tuple[0]} {person_tuple[1]}'"
   ]
  },
  {
   "cell_type": "code",
   "execution_count": 18,
   "metadata": {},
   "outputs": [
    {
     "data": {
      "text/plain": [
       "'Reuven Lerner'"
      ]
     },
     "execution_count": 18,
     "metadata": {},
     "output_type": "execute_result"
    }
   ],
   "source": [
    "fullname(p)"
   ]
  },
  {
   "cell_type": "markdown",
   "metadata": {},
   "source": [
    "# This works! \n",
    "\n",
    "But... There are some problems with this approach.\n",
    "\n",
    "1. We lose the advantages of abstraction.  If we were to stick with tuples, we could still write and maintain our software. However, we would be constantly thinking about the details at a low level. With objects, we can create a `Person` class, and then think in terms of people and their attributes. Then we can write classes that assume we have a `Person` class. \n",
    "2. There is no guarantee that someone will call our `fullname` function on a tuple that contains a person. We can, in theory, call `fullname` with any data structure we want. If we do that, we'll get errors. Objects reduce the chance of this by connecting data with specific methods.\n",
    "3. It's super annoying to have to think about the first name being index 0, the last name being index 1, and the shoe size being index 2. With objects, we can give these fields names, and then think at a higher level.\n",
    "4. By using classes, we can enforce the number, type, and value of various attributes."
   ]
  },
  {
   "cell_type": "markdown",
   "metadata": {},
   "source": [
    "# Naming and variables\n",
    "\n",
    "When we create a new class, we need to store the class somewhere. That will be in a variable, though in Python it's traditional to use a capital letter for a variable containing a class, and lowercase for just about everything else.\n",
    "\n",
    "When we create a new instance of that class, we'll need to store it somewhere. That will also be a variable, containing an instance.\n",
    "\n",
    "In this way, it's no different from `str` (a class) and `s` (a variable containing an instance of `str`)."
   ]
  },
  {
   "cell_type": "markdown",
   "metadata": {},
   "source": [
    "# Exercise: Non-object objects\n",
    "\n",
    "1. Define a tuple containing information about a company, with fields for the company's name, its domain, and number of employees.\n",
    "2. Write a function that expects to get that tuple, and returns a string saying \"COMPANY in DOMAIN\"\n",
    "3. What happens when you run `type` on your tuple? What do you get?"
   ]
  },
  {
   "cell_type": "code",
   "execution_count": 20,
   "metadata": {},
   "outputs": [
    {
     "data": {
      "text/plain": [
       "'BigCo in Money'"
      ]
     },
     "execution_count": 20,
     "metadata": {},
     "output_type": "execute_result"
    }
   ],
   "source": [
    "c1 = ('BigCo', 'Money', 100000)\n",
    "c2 = ('SmallCo', 'Little money', 5)\n",
    "\n",
    "def describe(company_tuple):\n",
    "    return f'{company_tuple[0]} in {company_tuple[1]}'\n",
    "\n",
    "describe(c1)"
   ]
  },
  {
   "cell_type": "code",
   "execution_count": 21,
   "metadata": {},
   "outputs": [
    {
     "data": {
      "text/plain": [
       "'SmallCo in Little money'"
      ]
     },
     "execution_count": 21,
     "metadata": {},
     "output_type": "execute_result"
    }
   ],
   "source": [
    "describe(c2)"
   ]
  },
  {
   "cell_type": "markdown",
   "metadata": {},
   "source": [
    "# Next up\n",
    "\n",
    "1. Creating a class -- how it looks/works\n",
    "2. What happens when we use the class to create a new object?"
   ]
  },
  {
   "cell_type": "code",
   "execution_count": null,
   "metadata": {},
   "outputs": [],
   "source": []
  }
 ],
 "metadata": {
  "kernelspec": {
   "display_name": "Python 3 (ipykernel)",
   "language": "python",
   "name": "python3"
  },
  "language_info": {
   "codemirror_mode": {
    "name": "ipython",
    "version": 3
   },
   "file_extension": ".py",
   "mimetype": "text/x-python",
   "name": "python",
   "nbconvert_exporter": "python",
   "pygments_lexer": "ipython3",
   "version": "3.12.1"
  }
 },
 "nbformat": 4,
 "nbformat_minor": 4
}
