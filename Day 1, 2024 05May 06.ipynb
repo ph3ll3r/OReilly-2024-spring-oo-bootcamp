{
 "cells": [
  {
   "cell_type": "markdown",
   "metadata": {},
   "source": [
    "# Object-oriented bootcamp, day 1\n"
   ]
  },
  {
   "cell_type": "markdown",
   "metadata": {},
   "source": [
    "# Agenda\n",
    "\n",
    "1. Intro to objects\n",
    "    - What are objects?\n",
    "    - In Python, everything is an object\n",
    "    - Creating your own data structures...\n",
    "    - ...creating data structures using classes and objects\n",
    "    - What happens when you create a new object?\n",
    "    - Attributes\n",
    "    - Complex objects and composition\n",
    "2. Methods\n",
    "    - Writing methods\n",
    "    - The `self` parameter\n",
    "    - Other parameters, and other arguments\n",
    "3. Magic methods\n",
    "4. Class attributes\n",
    "5. Attribute lookup (ICPO rule)\n",
    "6. Inheritance\n",
    "    - The three paradigms of method inheritance\n",
    "    - Attribute inheritance\n",
    "8. Next steps -- where to from here?"
   ]
  },
  {
   "cell_type": "markdown",
   "metadata": {},
   "source": [
    "# Jupyter \n",
    "\n",
    "Jupyter is a Web-based tool for writing Python code.  If you can install Jupyter yourself, then great! You don't have to, though -- if you want to use PyCharm or VSCode, then that's fine, as well. (VSCode has a free plugin for Jupyter, if you want.)\n",
    "\n",
    "If you want to use a notebook and don't have Jupyter installed, you can use Google Colab. \n",
    "\n",
    "I can use Jupyter for both text/documentation (in \"Markdown\" mode) and also for Python code (in \"code\" mode). I can switch between the two with the menu at the top of the page.\n",
    "\n",
    "To indicate that I'm done editing a cell, I use shift+Enter."
   ]
  },
  {
   "cell_type": "code",
   "execution_count": 1,
   "metadata": {},
   "outputs": [
    {
     "name": "stdout",
     "output_type": "stream",
     "text": [
      "Hello, world!\n"
     ]
    }
   ],
   "source": [
    "# now I'm in a code cell\n",
    "\n",
    "print('Hello, world!')  # shift + enter executes the code"
   ]
  },
  {
   "cell_type": "code",
   "execution_count": 2,
   "metadata": {},
   "outputs": [
    {
     "name": "stdout",
     "output_type": "stream",
     "text": [
      "100\n"
     ]
    }
   ],
   "source": [
    "x = 100\n",
    "\n",
    "print(x)"
   ]
  },
  {
   "cell_type": "code",
   "execution_count": 3,
   "metadata": {},
   "outputs": [
    {
     "data": {
      "text/plain": [
       "100"
      ]
     },
     "execution_count": 3,
     "metadata": {},
     "output_type": "execute_result"
    }
   ],
   "source": [
    "# in Jupyter, if the final line of a code cell is an expression, we see the value right away.\n",
    "\n",
    "x    "
   ]
  },
  {
   "cell_type": "code",
   "execution_count": 4,
   "metadata": {},
   "outputs": [
    {
     "data": {
      "text/plain": [
       "1000000"
      ]
     },
     "execution_count": 4,
     "metadata": {},
     "output_type": "execute_result"
    }
   ],
   "source": [
    "x**3"
   ]
  },
  {
   "cell_type": "markdown",
   "metadata": {},
   "source": [
    "# What are objects?\n",
    "\n",
    "Software has always been difficult to write, and even more difficult to maintain. Trying to find ways to maintain software has been going on for decades already.\n",
    "\n",
    "Organizing code so that you can find bugs and improve the code is crucial.\n",
    "\n",
    "Back in the 1970s, people were thinking about this. One of those people is named Alan Kay. Alan Kay didn't work on the front end of things, that end users would see. Rather, the thought about how to design software. He thought that it would be easier to maintain software if we could mimic the organization of a biological structure.\n",
    "\n",
    "Kay said that we could structure our programs like the human body, or an animal:\n",
    "\n",
    "- Our body has many different types of cells. Each type of cell sends and receives different types of messages.\n",
    "- We could structure our programs such that they contained different kinds of cells, each of which sent and received different kinds of messages.\n",
    "\n",
    "You can imagine:\n",
    "- User \"cell\" that would send some messages, and receive others\n",
    "- Security \"cell\" that would send some messages, and receive others\n",
    "\n",
    "This was the beginning of object-oriented programming:\n",
    "- The \"cells\" were called \"objects.\" Each thing in your program, each data structure, is actually a combination of data + actions (messages it can send, and messages it can receive)\n",
    "- You'll have many cells of the same type. Each type of cell was known as a \"class.\"\n",
    "- Kay talked about sending messages. But nowadays, we talk about \"calling methods.\"\n",
    "\n",
    "Kay created a programming language called Smalltalk.\n",
    "\n",
    "Python is object-oriented, meaning that it takes some inspiration from Smalltalk's ideas. But it has differnet ideas about how to go about implementing objects.\n",
    "\n",
    "Object-oriented programming is *NOT* a panacea for software problems. It is also not a religion.\n",
    "\n",
    "Object-oriented programming is a TECHNIQUE for MANAGING YOUR SOFTWARE CODE.\n",
    "\n",
    "This means that if you write a tiny program, you probably don't need to use objects. But it means that if you want to take advantage of someone else's code, and they did use objects, you'll likely want to do that.\n",
    "\n"
   ]
  },
  {
   "cell_type": "markdown",
   "metadata": {},
   "source": [
    "# Everything is an object -- what does that mean, and so what?\n",
    "\n",
    "In Python, everything (just about) is an object. What does that mean?\n",
    "\n",
    "- It means that we can apply the same rules to the data provided by Python as the data we create ourselves\n",
    "- It means that the same rules apply to Python's own stuff and our stuff\n",
    "- That makes it easier to understand the system, and for us extend/improve it.\n",
    "\n",
    "It also means that once you learn the rules for how things inside of Python work, you'll find that those rules are very consistent for your data sturctures, as well.\n",
    "\n",
    "We'll see that we can create classes (i.e., new data types) that follow the same rules as Python's built in data types, and work in the same ways.\n",
    "\n",
    "When I say \"provided by Python,\" I mean:\n",
    "\n",
    "- builtin data structures (e.g., int, str, dict, list)\n",
    "- builtin functions (e.g., print, len)\n",
    "- things that come in the standard library (`import random`, for example)"
   ]
  },
  {
   "cell_type": "markdown",
   "metadata": {},
   "source": [
    "# Vocabulary\n",
    "\n",
    "In Python, there are several special vocabulary words we need to talk about objects:\n",
    "\n",
    "- `class` and `type`: These are basically interchangeable words when we're talking about the program, but they are used differently when we are actually coding. We can think of a class as a factory for objects. So `str` is a class that creates new string objects. And `int` is a class that creates new integer objects. In fact, when you call `int('5')`, you are saying: I want to create a new integer based on the string `'5'`. When we invoke a class as a function, with `()`, we are creating a new object of that type.\n",
    "- `instance`: When we create a new string object, we can also call that an \"instance of `str`.\" When we create a new integer object, we can call that new object an \"instance of `int`.\" In other words, an instance is an object that was created by a class.\n",
    "- `object`: Classes and instances are both objects. The term \"object\" is a catchall for just about everything in Python."
   ]
  },
  {
   "cell_type": "code",
   "execution_count": 5,
   "metadata": {},
   "outputs": [
    {
     "data": {
      "text/plain": [
       "str"
      ]
     },
     "execution_count": 5,
     "metadata": {},
     "output_type": "execute_result"
    }
   ],
   "source": [
    "# how do we find out the type of an object?\n",
    "# answer: We ask it!\n",
    "\n",
    "s = 'abcde'\n",
    "type(s)   # here, we're using the \"type\" function to tell us: What kind of data is in s?"
   ]
  },
  {
   "cell_type": "code",
   "execution_count": 6,
   "metadata": {},
   "outputs": [
    {
     "data": {
      "text/plain": [
       "dict"
      ]
     },
     "execution_count": 6,
     "metadata": {},
     "output_type": "execute_result"
    }
   ],
   "source": [
    "# this means: s contains a string object, aka an instance of str. When we ask for type(s), we get str back,\n",
    "# because that is the class of our object.\n",
    "\n",
    "d = {'a':100, 'b':200, 'c':300}\n",
    "type(d)"
   ]
  },
  {
   "cell_type": "code",
   "execution_count": 12,
   "metadata": {},
   "outputs": [],
   "source": [
    "# d's class/type is dict. That means d is a variable rerferring an an instance of dict. "
   ]
  },
  {
   "cell_type": "markdown",
   "metadata": {},
   "source": [
    "# What do we care?\n",
    "\n",
    "The type/class of an object determines its functionality:\n",
    "\n",
    "- How we create a new instance of this object\n",
    "- What methods (functions) have been defined for it\n",
    "    - What arguments do they get?\n",
    "    - What outputs do they give us?\n",
    "- What data is defined on each of these objects -- in what we call \"attributes\"\n",
    "\n",
    "\n",
    "If you're still thinking of the cell metaphor, then the \"type of cell\" determines the behavior and what kinds of data will be stored there. \n",
    "\n",
    "If you want to think of it as a factory, then think of each car factory producing different kinds of cars. If you have a Toyota, then it came out of a Toyota factory. Your car is an instance of Toyota. In this case, every instance of Toyota would have a VIN. That would be an attribute on the instance, because very single car has (or should have!) a unique number.\n"
   ]
  },
  {
   "cell_type": "code",
   "execution_count": 9,
   "metadata": {},
   "outputs": [
    {
     "data": {
      "text/plain": [
       "int"
      ]
     },
     "execution_count": 9,
     "metadata": {},
     "output_type": "execute_result"
    }
   ],
   "source": [
    "x = 100\n",
    "\n",
    "type(x)  # it's easy to think: x is an integer. Really, though, x is a variable referring to an integer"
   ]
  },
  {
   "cell_type": "code",
   "execution_count": 11,
   "metadata": {},
   "outputs": [
    {
     "data": {
      "text/plain": [
       "4"
      ]
     },
     "execution_count": 11,
     "metadata": {},
     "output_type": "execute_result"
    }
   ],
   "source": [
    "s = 'abcd'\n",
    "len(s)  # this is not a method; this is a builtin function. You can always identify a method as having a a . before its name"
   ]
  },
  {
   "cell_type": "markdown",
   "metadata": {},
   "source": [
    "# We don't need objects!\n",
    "\n",
    "Object-oriented programming is an organizational technique for our code. But we can (if we want) get along OK without it.\n",
    "\n",
    "For example, let's say I want to keep track of people. I can use a tuple for that."
   ]
  },
  {
   "cell_type": "code",
   "execution_count": 13,
   "metadata": {},
   "outputs": [
    {
     "data": {
      "text/plain": [
       "'Reuven'"
      ]
     },
     "execution_count": 13,
     "metadata": {},
     "output_type": "execute_result"
    }
   ],
   "source": [
    "p = ('Reuven', 'Lerner', 46)\n",
    "p[0]  # this gives me the first name"
   ]
  },
  {
   "cell_type": "code",
   "execution_count": 15,
   "metadata": {},
   "outputs": [
    {
     "data": {
      "text/plain": [
       "'Lerner'"
      ]
     },
     "execution_count": 15,
     "metadata": {},
     "output_type": "execute_result"
    }
   ],
   "source": [
    "p[1]   # this gives me the last name"
   ]
  },
  {
   "cell_type": "code",
   "execution_count": 16,
   "metadata": {},
   "outputs": [
    {
     "data": {
      "text/plain": [
       "46"
      ]
     },
     "execution_count": 16,
     "metadata": {},
     "output_type": "execute_result"
    }
   ],
   "source": [
    "p[2]   # this gives me the shoe size"
   ]
  },
  {
   "cell_type": "code",
   "execution_count": 17,
   "metadata": {},
   "outputs": [],
   "source": [
    "def fullname(person_tuple):\n",
    "    return f'{person_tuple[0]} {person_tuple[1]}'"
   ]
  },
  {
   "cell_type": "code",
   "execution_count": 18,
   "metadata": {},
   "outputs": [
    {
     "data": {
      "text/plain": [
       "'Reuven Lerner'"
      ]
     },
     "execution_count": 18,
     "metadata": {},
     "output_type": "execute_result"
    }
   ],
   "source": [
    "fullname(p)"
   ]
  },
  {
   "cell_type": "markdown",
   "metadata": {},
   "source": [
    "# This works! \n",
    "\n",
    "But... There are some problems with this approach.\n",
    "\n",
    "1. We lose the advantages of abstraction.  If we were to stick with tuples, we could still write and maintain our software. However, we would be constantly thinking about the details at a low level. With objects, we can create a `Person` class, and then think in terms of people and their attributes. Then we can write classes that assume we have a `Person` class. \n",
    "2. There is no guarantee that someone will call our `fullname` function on a tuple that contains a person. We can, in theory, call `fullname` with any data structure we want. If we do that, we'll get errors. Objects reduce the chance of this by connecting data with specific methods.\n",
    "3. It's super annoying to have to think about the first name being index 0, the last name being index 1, and the shoe size being index 2. With objects, we can give these fields names, and then think at a higher level.\n",
    "4. By using classes, we can enforce the number, type, and value of various attributes."
   ]
  },
  {
   "cell_type": "markdown",
   "metadata": {},
   "source": [
    "# Naming and variables\n",
    "\n",
    "When we create a new class, we need to store the class somewhere. That will be in a variable, though in Python it's traditional to use a capital letter for a variable containing a class, and lowercase for just about everything else.\n",
    "\n",
    "When we create a new instance of that class, we'll need to store it somewhere. That will also be a variable, containing an instance.\n",
    "\n",
    "In this way, it's no different from `str` (a class) and `s` (a variable containing an instance of `str`)."
   ]
  },
  {
   "cell_type": "markdown",
   "metadata": {},
   "source": [
    "# Exercise: Non-object objects\n",
    "\n",
    "1. Define a tuple containing information about a company, with fields for the company's name, its domain, and number of employees.\n",
    "2. Write a function that expects to get that tuple, and returns a string saying \"COMPANY in DOMAIN\"\n",
    "3. What happens when you run `type` on your tuple? What do you get?"
   ]
  },
  {
   "cell_type": "code",
   "execution_count": 20,
   "metadata": {},
   "outputs": [
    {
     "data": {
      "text/plain": [
       "'BigCo in Money'"
      ]
     },
     "execution_count": 20,
     "metadata": {},
     "output_type": "execute_result"
    }
   ],
   "source": [
    "c1 = ('BigCo', 'Money', 100000)\n",
    "c2 = ('SmallCo', 'Little money', 5)\n",
    "\n",
    "def describe(company_tuple):\n",
    "    return f'{company_tuple[0]} in {company_tuple[1]}'\n",
    "\n",
    "describe(c1)"
   ]
  },
  {
   "cell_type": "code",
   "execution_count": 21,
   "metadata": {},
   "outputs": [
    {
     "data": {
      "text/plain": [
       "'SmallCo in Little money'"
      ]
     },
     "execution_count": 21,
     "metadata": {},
     "output_type": "execute_result"
    }
   ],
   "source": [
    "describe(c2)"
   ]
  },
  {
   "cell_type": "code",
   "execution_count": 22,
   "metadata": {},
   "outputs": [
    {
     "data": {
      "text/plain": [
       "tuple"
      ]
     },
     "execution_count": 22,
     "metadata": {},
     "output_type": "execute_result"
    }
   ],
   "source": [
    "# let's get the type of our objects\n",
    "type(c1)"
   ]
  },
  {
   "cell_type": "code",
   "execution_count": 23,
   "metadata": {},
   "outputs": [
    {
     "data": {
      "text/plain": [
       "tuple"
      ]
     },
     "execution_count": 23,
     "metadata": {},
     "output_type": "execute_result"
    }
   ],
   "source": [
    "type(c2)"
   ]
  },
  {
   "cell_type": "code",
   "execution_count": 24,
   "metadata": {},
   "outputs": [],
   "source": [
    "# let's say that I asked you to write a function that shows the company's name and its headcount\n",
    "\n",
    "def headcount(company_tuple):\n",
    "    return f'{company_tuple[0]} has {company_tuple[2]} employees'"
   ]
  },
  {
   "cell_type": "code",
   "execution_count": 25,
   "metadata": {},
   "outputs": [
    {
     "data": {
      "text/plain": [
       "'BigCo has 100000 employees'"
      ]
     },
     "execution_count": 25,
     "metadata": {},
     "output_type": "execute_result"
    }
   ],
   "source": [
    "headcount(c1)"
   ]
  },
  {
   "cell_type": "code",
   "execution_count": 26,
   "metadata": {},
   "outputs": [
    {
     "data": {
      "text/plain": [
       "'SmallCo has 5 employees'"
      ]
     },
     "execution_count": 26,
     "metadata": {},
     "output_type": "execute_result"
    }
   ],
   "source": [
    "headcount(c2)"
   ]
  },
  {
   "cell_type": "code",
   "execution_count": 27,
   "metadata": {},
   "outputs": [],
   "source": [
    "# BH asked -- why not just use + ?\n",
    "\n",
    "def headcount(company_tuple):\n",
    "    return company_tuple[0] + ' has ' + company_tuple[2] + ' employees'"
   ]
  },
  {
   "cell_type": "code",
   "execution_count": 28,
   "metadata": {},
   "outputs": [
    {
     "ename": "TypeError",
     "evalue": "can only concatenate str (not \"int\") to str",
     "output_type": "error",
     "traceback": [
      "\u001b[0;31m---------------------------------------------------------------------------\u001b[0m",
      "\u001b[0;31mTypeError\u001b[0m                                 Traceback (most recent call last)",
      "Cell \u001b[0;32mIn[28], line 1\u001b[0m\n\u001b[0;32m----> 1\u001b[0m \u001b[43mheadcount\u001b[49m\u001b[43m(\u001b[49m\u001b[43mc1\u001b[49m\u001b[43m)\u001b[49m\n",
      "Cell \u001b[0;32mIn[27], line 4\u001b[0m, in \u001b[0;36mheadcount\u001b[0;34m(company_tuple)\u001b[0m\n\u001b[1;32m      3\u001b[0m \u001b[38;5;28;01mdef\u001b[39;00m \u001b[38;5;21mheadcount\u001b[39m(company_tuple):\n\u001b[0;32m----> 4\u001b[0m     \u001b[38;5;28;01mreturn\u001b[39;00m \u001b[43mcompany_tuple\u001b[49m\u001b[43m[\u001b[49m\u001b[38;5;241;43m0\u001b[39;49m\u001b[43m]\u001b[49m\u001b[43m \u001b[49m\u001b[38;5;241;43m+\u001b[39;49m\u001b[43m \u001b[49m\u001b[38;5;124;43m'\u001b[39;49m\u001b[38;5;124;43m has \u001b[39;49m\u001b[38;5;124;43m'\u001b[39;49m\u001b[43m \u001b[49m\u001b[38;5;241;43m+\u001b[39;49m\u001b[43m \u001b[49m\u001b[43mcompany_tuple\u001b[49m\u001b[43m[\u001b[49m\u001b[38;5;241;43m2\u001b[39;49m\u001b[43m]\u001b[49m \u001b[38;5;241m+\u001b[39m \u001b[38;5;124m'\u001b[39m\u001b[38;5;124m employees\u001b[39m\u001b[38;5;124m'\u001b[39m\n",
      "\u001b[0;31mTypeError\u001b[0m: can only concatenate str (not \"int\") to str"
     ]
    }
   ],
   "source": [
    "headcount(c1)"
   ]
  },
  {
   "cell_type": "code",
   "execution_count": null,
   "metadata": {},
   "outputs": [],
   "source": []
  },
  {
   "cell_type": "markdown",
   "metadata": {},
   "source": [
    "# Next up\n",
    "\n",
    "1. Creating a class -- how it looks/works\n",
    "2. What happens when we use the class to create a new object?"
   ]
  },
  {
   "cell_type": "markdown",
   "metadata": {},
   "source": [
    "# What do I want?\n",
    "\n",
    "1. I want to create a new `Person` class\n",
    "2. When I create a new instance of `Person`, I should be able to indicate the first name, last name, and shoe size\n",
    "3. I want it to feel/look like I'm working at a higher level of abstraction, not with a tuple, etc.\n",
    "\n",
    "We're going to define a new class!\n",
    "1. We use the `class` keyword in Python, and immediately after we give the name of the class and a `:`\n",
    "2. Immediately after the `:`, we have an indented block. This is the \"class body,\" where the class is defined.\n",
    "3. Inside of the class body, we can define (a) methods and (b) class attributes. For now, we're just going to worry about methods.\n",
    "4. The most important method we can define is called `__init__` (pronounced \"dunder init,\" because it has double underscores on both sides). This is where we'll take the user's input and assign it to attributes."
   ]
  },
  {
   "cell_type": "code",
   "execution_count": 29,
   "metadata": {},
   "outputs": [],
   "source": [
    "class Person:\n",
    "    def __init__(self, name):\n",
    "        self.name = name"
   ]
  },
  {
   "cell_type": "code",
   "execution_count": 30,
   "metadata": {},
   "outputs": [],
   "source": [
    "# how can I create a new Person instance based on this class definition?\n",
    "# *ALWAYS* to get a new instance of X, we need to invoke X()\n",
    "\n",
    "p = Person('Reuven') "
   ]
  },
  {
   "cell_type": "code",
   "execution_count": 31,
   "metadata": {},
   "outputs": [
    {
     "data": {
      "text/plain": [
       "__main__.Person"
      ]
     },
     "execution_count": 31,
     "metadata": {},
     "output_type": "execute_result"
    }
   ],
   "source": [
    "# p is an instance of Person\n",
    "# it is a Person object!\n",
    "\n",
    "type(p)"
   ]
  },
  {
   "cell_type": "markdown",
   "metadata": {},
   "source": [
    "# What happened?\n",
    "\n",
    "I invoked `Person`, passing the string `'Reuven'` as an argument. That was (eventually) passed to `__init__`, whose `name` parameter was assigned the string `'Reuven'`. \n",
    "\n",
    "Then `__init__` assigned that value to `self.name`. This is how we assign to an attribute on the instance. Once this is set to `self.name`, we say that the object has a `name` attribute. We can then retrieve it with `.name` on the object."
   ]
  },
  {
   "cell_type": "code",
   "execution_count": 32,
   "metadata": {},
   "outputs": [
    {
     "data": {
      "text/plain": [
       "'Reuven'"
      ]
     },
     "execution_count": 32,
     "metadata": {},
     "output_type": "execute_result"
    }
   ],
   "source": [
    "p.name"
   ]
  },
  {
   "cell_type": "code",
   "execution_count": 33,
   "metadata": {},
   "outputs": [
    {
     "data": {
      "text/plain": [
       "'Whoever'"
      ]
     },
     "execution_count": 33,
     "metadata": {},
     "output_type": "execute_result"
    }
   ],
   "source": [
    "p2 = Person('Whoever')\n",
    "p2.name"
   ]
  },
  {
   "cell_type": "code",
   "execution_count": 34,
   "metadata": {},
   "outputs": [],
   "source": [
    "class Person:\n",
    "    def __init__(self, first, last, shoe_size):\n",
    "        self.first = first\n",
    "        self.last = last\n",
    "        self.shoe_size = shoe_size\n",
    "\n",
    "p = Person('Reuven', 'Lerner', 46)"
   ]
  },
  {
   "cell_type": "code",
   "execution_count": 35,
   "metadata": {},
   "outputs": [
    {
     "data": {
      "text/plain": [
       "__main__.Person"
      ]
     },
     "execution_count": 35,
     "metadata": {},
     "output_type": "execute_result"
    }
   ],
   "source": [
    "type(p)"
   ]
  },
  {
   "cell_type": "code",
   "execution_count": 36,
   "metadata": {},
   "outputs": [
    {
     "data": {
      "text/plain": [
       "'Reuven'"
      ]
     },
     "execution_count": 36,
     "metadata": {},
     "output_type": "execute_result"
    }
   ],
   "source": [
    "p.first"
   ]
  },
  {
   "cell_type": "code",
   "execution_count": 37,
   "metadata": {},
   "outputs": [
    {
     "data": {
      "text/plain": [
       "'Lerner'"
      ]
     },
     "execution_count": 37,
     "metadata": {},
     "output_type": "execute_result"
    }
   ],
   "source": [
    "p.last"
   ]
  },
  {
   "cell_type": "code",
   "execution_count": 38,
   "metadata": {},
   "outputs": [
    {
     "data": {
      "text/plain": [
       "46"
      ]
     },
     "execution_count": 38,
     "metadata": {},
     "output_type": "execute_result"
    }
   ],
   "source": [
    "p.shoe_size"
   ]
  },
  {
   "cell_type": "markdown",
   "metadata": {},
   "source": [
    "# Exericse: Company\n",
    "\n",
    "1. Re-implement what we did before for a company, but this time create a new class for it. Call the class `Company`\n",
    "2. Create two instances of `Company`, each with a name, domain, and a size. Each of these three values should be assigned to an attribute in `__init__`."
   ]
  },
  {
   "cell_type": "code",
   "execution_count": 39,
   "metadata": {},
   "outputs": [],
   "source": [
    "class Company:\n",
    "    def __init__(self, name):\n",
    "        self.name = name\n",
    "\n",
    "c1 = Company('BigCo')\n",
    "c2 = Company('SmallCo')\n",
    "\n",
    "# c1 = ('BigCo', 'Money', 100000)\n",
    "# c2 = ('SmallCo', 'Little money', 5)\n"
   ]
  },
  {
   "cell_type": "code",
   "execution_count": 40,
   "metadata": {},
   "outputs": [
    {
     "data": {
      "text/plain": [
       "'BigCo'"
      ]
     },
     "execution_count": 40,
     "metadata": {},
     "output_type": "execute_result"
    }
   ],
   "source": [
    "c1.name"
   ]
  },
  {
   "cell_type": "code",
   "execution_count": 41,
   "metadata": {},
   "outputs": [
    {
     "data": {
      "text/plain": [
       "'SmallCo'"
      ]
     },
     "execution_count": 41,
     "metadata": {},
     "output_type": "execute_result"
    }
   ],
   "source": [
    "c2.name"
   ]
  },
  {
   "cell_type": "code",
   "execution_count": 42,
   "metadata": {},
   "outputs": [
    {
     "data": {
      "text/plain": [
       "__main__.Company"
      ]
     },
     "execution_count": 42,
     "metadata": {},
     "output_type": "execute_result"
    }
   ],
   "source": [
    "type(c1)"
   ]
  },
  {
   "cell_type": "code",
   "execution_count": 43,
   "metadata": {},
   "outputs": [
    {
     "data": {
      "text/plain": [
       "__main__.Company"
      ]
     },
     "execution_count": 43,
     "metadata": {},
     "output_type": "execute_result"
    }
   ],
   "source": [
    "type(c2)"
   ]
  },
  {
   "cell_type": "code",
   "execution_count": 44,
   "metadata": {},
   "outputs": [],
   "source": [
    "class Company:\n",
    "    def __init__(self, name, domain, size):\n",
    "        self.name = name\n",
    "        self.domain = domain\n",
    "        self.size = size\n",
    "\n",
    "c1 = Company('BigCo', 'Money', 100000)\n",
    "c2 = Company('SmallCo', 'Little money', 5)"
   ]
  },
  {
   "cell_type": "code",
   "execution_count": 45,
   "metadata": {},
   "outputs": [
    {
     "data": {
      "text/plain": [
       "'BigCo'"
      ]
     },
     "execution_count": 45,
     "metadata": {},
     "output_type": "execute_result"
    }
   ],
   "source": [
    "c1.name"
   ]
  },
  {
   "cell_type": "code",
   "execution_count": 46,
   "metadata": {},
   "outputs": [
    {
     "data": {
      "text/plain": [
       "'Money'"
      ]
     },
     "execution_count": 46,
     "metadata": {},
     "output_type": "execute_result"
    }
   ],
   "source": [
    "c1.domain"
   ]
  },
  {
   "cell_type": "code",
   "execution_count": 47,
   "metadata": {},
   "outputs": [
    {
     "data": {
      "text/plain": [
       "100000"
      ]
     },
     "execution_count": 47,
     "metadata": {},
     "output_type": "execute_result"
    }
   ],
   "source": [
    "c1.size"
   ]
  },
  {
   "cell_type": "code",
   "execution_count": 48,
   "metadata": {},
   "outputs": [
    {
     "data": {
      "text/plain": [
       "5"
      ]
     },
     "execution_count": 48,
     "metadata": {},
     "output_type": "execute_result"
    }
   ],
   "source": [
    "c2.size"
   ]
  },
  {
   "cell_type": "markdown",
   "metadata": {},
   "source": [
    "# We have questions!\n",
    "\n",
    "1. What is `__init__`? (Is it the \"constructor\" method for objects in Python?)\n",
    "2. What is `self`?\n",
    "3. Why are we assigning to `self`?"
   ]
  },
  {
   "cell_type": "markdown",
   "metadata": {},
   "source": [
    "# What happens when we create a new instance\n",
    "\n",
    "When we invoke a class to create a new instance, the *constructor method* for that class is invoked. As the name indicates, the constructor creates a new instance of our class, and gets it ready to be returned.\n",
    "\n",
    "Many, many *MANY* people believe that the constructor in Python is `__init__`. They are completely wrong.\n",
    "\n",
    "The real constructor method in Python is called `__new__`. You will never run it directly yourself. You will never implement it yourself. Let Python create the objects for you!\n",
    "\n",
    "1. `__new__` is invoked automatically when we call the class. It gets all of the arguments that you passed to the class.\n",
    "2. Inside of `__new__`, Python creates our new instance. The instance knows what type of object it is, but otherwise has no attributes.\n",
    "3. Where will those attributes be set? Inside of `__init__`. We need to somehow pass our object to `__init__`, along with all of the arguments that were passed to the class. We call `__init__` with the instance that was just created, as the first argument, along with all of the rest of the arguments.\n",
    "\n",
    "This means that when we wrote\n",
    "\n",
    "    Company('BigCo', 'Money', 100000)\n",
    "\n",
    "This was behind the scenes, turned into\n",
    "\n",
    "    __init__(NEW_INSTANCE, 'BigCo', 'Money', 100000)\n",
    "\n",
    "4. Inside of `__init__`, we can (and normally do) assign attributes to our new object. An attribute is basically a name that comes after a `.`, and is sort of a private dictionary on an object.\n",
    "5. The first parameter in `__init__` contains the new instance. In fact, in every method in Python, the first parameter contains the instance on which we're working. That parameter is called `self`, taken from the Smalltalk language. This is not a keyword, and is not set by Python. You could, in theory, use a different parameter name. **DON'T DO IT!**\n",
    "6. Because `self` refers to the instance, we can assign to `self`'s attributes. Those will stick around, even when `__init__` returns."
   ]
  },
  {
   "cell_type": "markdown",
   "metadata": {},
   "source": [
    "# Why do we even need `self`?\n",
    "\n",
    "One of the annoying things about objects in Python is `self`:\n",
    "- Every method's first parameter is `self`, meaning that the first argument will always be the instance on which we're running\n",
    "- When we want to retrieve attributes, we cannot just ask for `x`, but we must say `self.x`, to retrieve the attribute from the current instance\n",
    "- When we want to set attributes, we cannot just set `x`, but we must say `self.x`, to set the attribute on the current instance.\n",
    "- If we just try to retrieve `x`, then we're asking for the *VARIABLE* `x`, which is completely separate and differnet from the attribute `self.x`.\n",
    "- If we just try to set `x`, then we're setting the *LOCAL VARIABLE* `x`, whose value will go away after the function returns.\n",
    "\n",
    "This leads many people to wonder what the heck is wrong with Python! Why do we need to explicitly talk about `self` rather than just use variables, and the language will know that we're talking about attributes on our object.\n",
    "\n",
    "1. In other languages, a class definition includes some declarations of what the instance variables aka fields aka attributes will be for an object. That allows the language to know in advance that when you set/retrieve `x`, are you talking about a variable? Or are you talking about an instance variable / field? In Python, we don't have such declarations, so there isn't any implicit way for the language to know.\n",
    "2. In Python, we have a very strict variable lookup rule called LEGB (local-enclosing-global-builtin). That has to do with all variables, inside and outside of methods/functions. In order for that rule to work, we need to use attributes stuck onto an object, and that object needs to be explicit. We use `self` to avoid confusing ourselves and Python between attributes and variables.\n",
    "3. Python generally likes to make things very explicit and clear, even if that means they're a bit wordier.\n",
    "\n",
    "In `__init__`, there is no rule that says the name of the parameter needs to match the name of the attribute. Python is totally OK with you saying:\n",
    "\n",
    "```python\n",
    "class Person:\n",
    "    def __init__(self, name):\n",
    "        self.call_me = name\n",
    "```"
   ]
  },
  {
   "cell_type": "code",
   "execution_count": 49,
   "metadata": {},
   "outputs": [],
   "source": [
    "class Person:\n",
    "    def __init__(self, name):\n",
    "        self.name = name\n",
    "\n",
    "p = Person('Reuven')"
   ]
  },
  {
   "cell_type": "code",
   "execution_count": 50,
   "metadata": {},
   "outputs": [
    {
     "data": {
      "text/plain": [
       "'Reuven'"
      ]
     },
     "execution_count": 50,
     "metadata": {},
     "output_type": "execute_result"
    }
   ],
   "source": [
    "p.name"
   ]
  },
  {
   "cell_type": "markdown",
   "metadata": {},
   "source": [
    "# Summary of class definitions so far\n",
    "\n",
    "1. When you want to define a new class, use `class` and then name of the class (in CamelCase)\n",
    "2. Assuming that you want to assign one or more attributes to each instance, you'll want to define a `__init__` method.\n",
    "    - Like all methods, the first parameter is `self`, and refers to the new instance that we've just created.\n",
    "    - The job of `__init__` is to assign attributes to `self`.\n",
    "    - Typically, we'll assign those attributes to `self` based on parameters."
   ]
  },
  {
   "cell_type": "code",
   "execution_count": 51,
   "metadata": {},
   "outputs": [],
   "source": [
    "class Company:\n",
    "    def __init__(self, name, domain, size):\n",
    "        self.a = name\n",
    "        self.b = domain\n",
    "        self.c = size\n",
    "\n",
    "c1 = Company('BigCo', 'Money', 100000)\n",
    "c2 = Company('SmallCo', 'Little money', 5)"
   ]
  },
  {
   "cell_type": "code",
   "execution_count": 52,
   "metadata": {},
   "outputs": [
    {
     "data": {
      "text/plain": [
       "'BigCo'"
      ]
     },
     "execution_count": 52,
     "metadata": {},
     "output_type": "execute_result"
    }
   ],
   "source": [
    "c1.a"
   ]
  },
  {
   "cell_type": "code",
   "execution_count": 53,
   "metadata": {},
   "outputs": [
    {
     "data": {
      "text/plain": [
       "'Money'"
      ]
     },
     "execution_count": 53,
     "metadata": {},
     "output_type": "execute_result"
    }
   ],
   "source": [
    "c1.b"
   ]
  },
  {
   "cell_type": "code",
   "execution_count": 55,
   "metadata": {},
   "outputs": [
    {
     "data": {
      "text/plain": [
       "100000"
      ]
     },
     "execution_count": 55,
     "metadata": {},
     "output_type": "execute_result"
    }
   ],
   "source": [
    "c1.c"
   ]
  },
  {
   "cell_type": "code",
   "execution_count": 56,
   "metadata": {},
   "outputs": [],
   "source": [
    "class Company:\n",
    "    def __init__(self, name, domain, size):\n",
    "        self.a = name\n",
    "        self.b = domain\n",
    "        self.c = size\n",
    "        self.printable = f'{name}, a company that makes {domain} with {size} workers'\n",
    "\n",
    "c1 = Company('BigCo', 'Money', 100000)\n",
    "c2 = Company('SmallCo', 'Little money', 5)"
   ]
  },
  {
   "cell_type": "code",
   "execution_count": 57,
   "metadata": {},
   "outputs": [
    {
     "data": {
      "text/plain": [
       "'BigCo, a company that makes Money with 100000 workers'"
      ]
     },
     "execution_count": 57,
     "metadata": {},
     "output_type": "execute_result"
    }
   ],
   "source": [
    "c1.printable"
   ]
  },
  {
   "cell_type": "markdown",
   "metadata": {},
   "source": [
    "# Next up\n",
    "\n",
    "- Setting and retrieving attributes\n",
    "- Simple methods\n",
    "- Getters and setters (or not)"
   ]
  },
  {
   "cell_type": "code",
   "execution_count": 59,
   "metadata": {},
   "outputs": [],
   "source": [
    "class Person:\n",
    "    def __init__(self, first, last, shoe_size):\n",
    "        self.first = first\n",
    "        self.last = last\n",
    "        self.shoe_size = shoe_size\n",
    "\n",
    "p1 = Person('Reuven', 'Lerner' , 46)\n",
    "p2 = Person('Someone', 'Else', 42)"
   ]
  },
  {
   "cell_type": "code",
   "execution_count": 60,
   "metadata": {},
   "outputs": [
    {
     "data": {
      "text/plain": [
       "'Reuven'"
      ]
     },
     "execution_count": 60,
     "metadata": {},
     "output_type": "execute_result"
    }
   ],
   "source": [
    "# I can get any attribute value from any object just by asking for it\n",
    "p1.first"
   ]
  },
  {
   "cell_type": "code",
   "execution_count": 61,
   "metadata": {},
   "outputs": [
    {
     "data": {
      "text/plain": [
       "'Someone'"
      ]
     },
     "execution_count": 61,
     "metadata": {},
     "output_type": "execute_result"
    }
   ],
   "source": [
    "p2.first"
   ]
  },
  {
   "cell_type": "markdown",
   "metadata": {},
   "source": [
    "# What about the getters and setters?\n",
    "\n",
    "In other programming languages that use objects, there are a bunch of differences from what we see here:\n",
    "\n",
    "1. You can indicate whether an attribute is public, private, or protected. These give you some ability to restrict who can read from and write to your attributes. Python has NOTHING OF THE SORT; everything is absolutely public. You cannot hide an attribute from someone else who wants to see it, or even who wants to modify it.\n",
    "2. Because all attributes are public, there isn't a need for us to have methods that then get special access, or that check who is reading/writing.\n",
    "3. In many other languages, it's typical (even necessary) to write a \"getter\" method to retrieve a value, and a \"setter\" method to assign to a value. We *can* write such methods, but it's rare to do so. It's considered \"un-Pythonic,\" as we say.\n"
   ]
  },
  {
   "cell_type": "markdown",
   "metadata": {},
   "source": [
    "# How can I define methods? What do they look like?\n",
    "\n",
    "To define a method, we:\n",
    "\n",
    "- Define a function inside of the class definition\n",
    "- The function's first parameter must always be `self`, which contains the instance\n",
    "- Any time we want to read from or write to an attribute, we must preface its name with `self.`"
   ]
  },
  {
   "cell_type": "code",
   "execution_count": 64,
   "metadata": {},
   "outputs": [],
   "source": [
    "class Person:\n",
    "    def __init__(self, first, last, shoe_size):\n",
    "        self.first = first\n",
    "        self.last = last\n",
    "        self.shoe_size = shoe_size\n",
    "\n",
    "    def fullname(self):   # this is a method!\n",
    "        return f'{self.first} {self.last}'\n",
    "\n",
    "    def has_big_feet(self):\n",
    "        return self.shoe_size > 44\n",
    "\n",
    "p1 = Person('Reuven', 'Lerner' , 46)\n",
    "p2 = Person('Someone', 'Else', 42)"
   ]
  },
  {
   "cell_type": "code",
   "execution_count": 65,
   "metadata": {},
   "outputs": [
    {
     "data": {
      "text/plain": [
       "'Reuven Lerner'"
      ]
     },
     "execution_count": 65,
     "metadata": {},
     "output_type": "execute_result"
    }
   ],
   "source": [
    "p1.fullname()   # notice, I have to use () to run the method"
   ]
  },
  {
   "cell_type": "code",
   "execution_count": 66,
   "metadata": {},
   "outputs": [
    {
     "data": {
      "text/plain": [
       "True"
      ]
     },
     "execution_count": 66,
     "metadata": {},
     "output_type": "execute_result"
    }
   ],
   "source": [
    "p1.has_big_feet()"
   ]
  },
  {
   "cell_type": "code",
   "execution_count": 67,
   "metadata": {},
   "outputs": [],
   "source": [
    "class Person:\n",
    "    def __init__(self, first, last, shoe_size):\n",
    "        self.first = first\n",
    "        self.last = last\n",
    "        self.shoe_size = shoe_size\n",
    "\n",
    "    def fullname(self):   # this is a method!\n",
    "        return f'{self.first} {self.last}'\n",
    "\n",
    "    def has_big_feet(self):\n",
    "        return self.shoe_size > 44\n",
    "\n",
    "    def get_first(self):\n",
    "        return self.first\n",
    "\n",
    "    def get_last(self):\n",
    "        return self.last\n",
    "\n",
    "    def get_shoe_size(self):\n",
    "        return self.shoe_size\n",
    "\n",
    "    def set_first(self, new_first):\n",
    "        self.first = new_first\n",
    "\n",
    "p1 = Person('Reuven', 'Lerner' , 46)\n",
    "p2 = Person('Someone', 'Else', 42)"
   ]
  },
  {
   "cell_type": "code",
   "execution_count": 68,
   "metadata": {},
   "outputs": [
    {
     "data": {
      "text/plain": [
       "'Reuven'"
      ]
     },
     "execution_count": 68,
     "metadata": {},
     "output_type": "execute_result"
    }
   ],
   "source": [
    "p1.get_first()"
   ]
  },
  {
   "cell_type": "code",
   "execution_count": 69,
   "metadata": {},
   "outputs": [
    {
     "data": {
      "text/plain": [
       "'Lerner'"
      ]
     },
     "execution_count": 69,
     "metadata": {},
     "output_type": "execute_result"
    }
   ],
   "source": [
    "p1.get_last()"
   ]
  },
  {
   "cell_type": "code",
   "execution_count": 70,
   "metadata": {},
   "outputs": [],
   "source": [
    "p1.set_first('ASDFADFAF')"
   ]
  },
  {
   "cell_type": "code",
   "execution_count": 71,
   "metadata": {},
   "outputs": [
    {
     "data": {
      "text/plain": [
       "'ASDFADFAF Lerner'"
      ]
     },
     "execution_count": 71,
     "metadata": {},
     "output_type": "execute_result"
    }
   ],
   "source": [
    "p1.fullname()"
   ]
  },
  {
   "cell_type": "code",
   "execution_count": 72,
   "metadata": {},
   "outputs": [
    {
     "data": {
      "text/plain": [
       "'ASDFADFAF'"
      ]
     },
     "execution_count": 72,
     "metadata": {},
     "output_type": "execute_result"
    }
   ],
   "source": [
    "# rather than write these methods, in Python we just retrieve and set the attributes directly.\n",
    "p1.first"
   ]
  },
  {
   "cell_type": "code",
   "execution_count": 73,
   "metadata": {},
   "outputs": [
    {
     "data": {
      "text/plain": [
       "'Lerner'"
      ]
     },
     "execution_count": 73,
     "metadata": {},
     "output_type": "execute_result"
    }
   ],
   "source": [
    "p1.last"
   ]
  },
  {
   "cell_type": "code",
   "execution_count": 74,
   "metadata": {},
   "outputs": [],
   "source": [
    "p1.first = 'Reuven'   # this is how I set a value"
   ]
  },
  {
   "cell_type": "markdown",
   "metadata": {},
   "source": [
    "# Methods\n",
    "\n",
    "Functions are the verbs in a programming language. Methods are functions that we define in a class, and which can only be invoked via the object. They are connected to the object, and thus ensure (to some degree) that the method can only be invoked on objects of the right type.\n",
    "\n",
    "Whereas we invoke a function like this:\n",
    "\n",
    "    FUNCTION(DATA, ARG1, ARG2)\n",
    "\n",
    "Methods are invoked like this:\n",
    "\n",
    "    DATA.METHOD(ARG1, ARG2)\n",
    "\n",
    "This ensures that all of the methods that have to do with a particular object type are organized under that class.\n",
    "\n",
    "To define a method, we use `def` inside of the class definition, and `self` needs to be the first parameter."
   ]
  },
  {
   "cell_type": "code",
   "execution_count": 75,
   "metadata": {},
   "outputs": [
    {
     "name": "stdout",
     "output_type": "stream",
     "text": [
      "Reuven Lerner\n",
      "Someone Else\n"
     ]
    }
   ],
   "source": [
    "class Person:\n",
    "    def __init__(self, first, last, shoe_size):\n",
    "        self.first = first\n",
    "        self.last = last\n",
    "        self.shoe_size = shoe_size\n",
    "\n",
    "    def fullname(self):   # this is a method!\n",
    "        return f'{self.first} {self.last}'\n",
    "\n",
    "p1 = Person('Reuven', 'Lerner' , 46)\n",
    "p2 = Person('Someone', 'Else', 42)\n",
    "\n",
    "print(p1.fullname())\n",
    "print(p2.fullname())"
   ]
  },
  {
   "cell_type": "markdown",
   "metadata": {},
   "source": [
    "# Where is the attribute stored?\n",
    "\n",
    "If the attribute is set or retrieved on `self`, by definition that means that the attribute is on a specific instance. It's an instance attribute. This is what many programming languages would call an \"instance variable.\" But they aren't variables in Python; they are attributes attached to our instances, and it's better to think of them this way. In our car analogy, an attribute for the instance might be the VIN, the color, the model, the make, etc.\n",
    "\n",
    "Can we have attributes on a class? Yes, and we'll talk about that tomorrow. Class attributes apply to the factory, not to the products that it makes. A class attribute for a car factory might be the number of employees, or the size. But it wouldn't be the color of the car; it might be the color of the factory."
   ]
  },
  {
   "cell_type": "code",
   "execution_count": 76,
   "metadata": {},
   "outputs": [
    {
     "data": {
      "text/plain": [
       "{'first': 'Reuven', 'last': 'Lerner', 'shoe_size': 46}"
      ]
     },
     "execution_count": 76,
     "metadata": {},
     "output_type": "execute_result"
    }
   ],
   "source": [
    "vars(p1)   # give me a dict with all of the attributes of p1"
   ]
  },
  {
   "cell_type": "code",
   "execution_count": 77,
   "metadata": {},
   "outputs": [],
   "source": [
    "p1.first = 'ASDFAFSA'   # here we have assigned a new value to p1.first"
   ]
  },
  {
   "cell_type": "code",
   "execution_count": 78,
   "metadata": {},
   "outputs": [
    {
     "data": {
      "text/plain": [
       "{'first': 'ASDFAFSA', 'last': 'Lerner', 'shoe_size': 46}"
      ]
     },
     "execution_count": 78,
     "metadata": {},
     "output_type": "execute_result"
    }
   ],
   "source": [
    "vars(p1)"
   ]
  },
  {
   "cell_type": "markdown",
   "metadata": {},
   "source": [
    "# Exercise: Ice cream scoop\n",
    "\n",
    "1. Define a class, `Scoop`. Each instance of `Scoop` represents one scoop of ice cream.\n",
    "2. Each scoop has one attribute, `flavor`, that can be assigned when the instance is created, as a string.\n",
    "3. Define three instances of `Scoop`, with three flavors. Put them in a list, iterate over them, and print the flavor of each."
   ]
  },
  {
   "cell_type": "code",
   "execution_count": 79,
   "metadata": {},
   "outputs": [
    {
     "name": "stdout",
     "output_type": "stream",
     "text": [
      "chocolate\n",
      "vanilla\n",
      "coffee\n"
     ]
    }
   ],
   "source": [
    "class Scoop:\n",
    "    def __init__(self, flavor):\n",
    "        self.flavor = flavor\n",
    "\n",
    "s1 = Scoop('chocolate')\n",
    "s2 = Scoop('vanilla')\n",
    "s3 = Scoop('coffee')\n",
    "\n",
    "for one_scoop in [s1, s2, s3]:\n",
    "    print(one_scoop.flavor)"
   ]
  },
  {
   "cell_type": "code",
   "execution_count": 80,
   "metadata": {},
   "outputs": [
    {
     "data": {
      "text/plain": [
       "int"
      ]
     },
     "execution_count": 80,
     "metadata": {},
     "output_type": "execute_result"
    }
   ],
   "source": [
    "x = 100\n",
    "type(x)"
   ]
  },
  {
   "cell_type": "code",
   "execution_count": 81,
   "metadata": {},
   "outputs": [
    {
     "data": {
      "text/plain": [
       "str"
      ]
     },
     "execution_count": 81,
     "metadata": {},
     "output_type": "execute_result"
    }
   ],
   "source": [
    "x = 'abcd'\n",
    "type(x)"
   ]
  },
  {
   "cell_type": "code",
   "execution_count": 82,
   "metadata": {},
   "outputs": [],
   "source": [
    "def hello(name):\n",
    "    return f'Hello, {name}'"
   ]
  },
  {
   "cell_type": "code",
   "execution_count": 83,
   "metadata": {},
   "outputs": [
    {
     "data": {
      "text/plain": [
       "'Hello, Reuven'"
      ]
     },
     "execution_count": 83,
     "metadata": {},
     "output_type": "execute_result"
    }
   ],
   "source": [
    "hello('Reuven')"
   ]
  },
  {
   "cell_type": "code",
   "execution_count": 84,
   "metadata": {},
   "outputs": [
    {
     "data": {
      "text/plain": [
       "'Hello, 5'"
      ]
     },
     "execution_count": 84,
     "metadata": {},
     "output_type": "execute_result"
    }
   ],
   "source": [
    "hello(5)"
   ]
  },
  {
   "cell_type": "code",
   "execution_count": 85,
   "metadata": {},
   "outputs": [
    {
     "data": {
      "text/plain": [
       "'Hello, [10, 20, 30]'"
      ]
     },
     "execution_count": 85,
     "metadata": {},
     "output_type": "execute_result"
    }
   ],
   "source": [
    "hello([10, 20, 30])"
   ]
  },
  {
   "cell_type": "code",
   "execution_count": 86,
   "metadata": {},
   "outputs": [
    {
     "data": {
      "text/plain": [
       "'Hello, <function hello at 0x110c38680>'"
      ]
     },
     "execution_count": 86,
     "metadata": {},
     "output_type": "execute_result"
    }
   ],
   "source": [
    "hello(hello)"
   ]
  },
  {
   "cell_type": "code",
   "execution_count": 92,
   "metadata": {},
   "outputs": [],
   "source": [
    "def hello(name:str):    # type annotation / type hint\n",
    "    return f'Hello, {name}'"
   ]
  },
  {
   "cell_type": "code",
   "execution_count": 88,
   "metadata": {},
   "outputs": [
    {
     "data": {
      "text/plain": [
       "'Hello, Reuven'"
      ]
     },
     "execution_count": 88,
     "metadata": {},
     "output_type": "execute_result"
    }
   ],
   "source": [
    "hello('Reuven')"
   ]
  },
  {
   "cell_type": "code",
   "execution_count": 89,
   "metadata": {},
   "outputs": [
    {
     "data": {
      "text/plain": [
       "'Hello, 5'"
      ]
     },
     "execution_count": 89,
     "metadata": {},
     "output_type": "execute_result"
    }
   ],
   "source": [
    "hello(5)"
   ]
  },
  {
   "cell_type": "code",
   "execution_count": 90,
   "metadata": {},
   "outputs": [
    {
     "data": {
      "text/plain": [
       "'Hello, [10, 20, 30]'"
      ]
     },
     "execution_count": 90,
     "metadata": {},
     "output_type": "execute_result"
    }
   ],
   "source": [
    "hello([10, 20, 30])"
   ]
  },
  {
   "cell_type": "code",
   "execution_count": 91,
   "metadata": {},
   "outputs": [
    {
     "data": {
      "text/plain": [
       "'Hello, <function hello at 0x110c39ee0>'"
      ]
     },
     "execution_count": 91,
     "metadata": {},
     "output_type": "execute_result"
    }
   ],
   "source": [
    "hello(hello)"
   ]
  },
  {
   "cell_type": "markdown",
   "metadata": {},
   "source": [
    "We typically don't put ice cream scoops in Python lists. Rather, we prefer to have them in bowls and cones.\n",
    "\n",
    "So.. a new exercise.\n",
    "\n",
    "# Next up\n",
    "\n",
    "1. Exercise with a bowl of scoops\n",
    "2. More about methods\n",
    "3. Methods and special parameters\n"
   ]
  },
  {
   "cell_type": "markdown",
   "metadata": {},
   "source": [
    "# Composition\n",
    "\n",
    "So far, we've seen that an attribute can contain a variety of types of values:\n",
    "\n",
    "- Strings\n",
    "- Integers\n",
    "\n",
    "Actually, an attribute can contain *any* Python value at all:\n",
    "\n",
    "- List\n",
    "- Tuple\n",
    "- Dict\n",
    "- User-defined class\n",
    "\n",
    "Having an object \"inside\" of another object is known as \"composition.\" It is incredibly powerful, but also (in Python) the most mundane, standard thing that we do. Because strings, integers, etc. are all objects -- so if we can store them as attributes, then we can store anything else as attributes."
   ]
  },
  {
   "cell_type": "code",
   "execution_count": 93,
   "metadata": {},
   "outputs": [
    {
     "data": {
      "text/plain": [
       "['Whoever']"
      ]
     },
     "execution_count": 93,
     "metadata": {},
     "output_type": "execute_result"
    }
   ],
   "source": [
    "class Person:\n",
    "    def __init__(self, name):\n",
    "        self.name = name\n",
    "        self.friends = []    # this is a list of the person's friends\n",
    "\n",
    "    def add_friend(self, new_friend):\n",
    "        self.friends.append(new_friend)\n",
    "\n",
    "p = Person('Reuven')\n",
    "p.add_friend('Whoever')\n",
    "\n",
    "p.friends"
   ]
  },
  {
   "cell_type": "code",
   "execution_count": 94,
   "metadata": {},
   "outputs": [
    {
     "data": {
      "text/plain": [
       "['Whoever', 'John']"
      ]
     },
     "execution_count": 94,
     "metadata": {},
     "output_type": "execute_result"
    }
   ],
   "source": [
    "p.add_friend('John')\n",
    "p.friends"
   ]
  },
  {
   "cell_type": "markdown",
   "metadata": {},
   "source": [
    "# Exercise: Bowls of ice cream\n",
    "\n",
    "1. Define a `Bowl` class. Each instance of `Bowl` will have a `scoops` attribute, starting with an empty list. That list will contain `Scoop` objects, one per scoop in the bowl.\n",
    "2. Define a `add_scoop` method to the `Bowl` class. Show that we can add a number of scoops to the bowl.\n",
    "3. Define a `flavors` method to the `Bowl` class, which returns a list of strings -- the flavors from the scoops we have stored.\n",
    "\n",
    "Note: The `scoops` attribute on each `Bowl` instance should contain actual `Scoop` objects, *not* the flavors.\n",
    "\n",
    "Example:\n",
    "\n",
    "    b = Bowl()\n",
    "    b.add_scoop(s1)\n",
    "    b.add_scoop(s2)\n",
    "    b.add_scoop(s3)\n",
    "    print(b.flavors())  # ['chocolate', 'vanilla', 'coffee']"
   ]
  },
  {
   "cell_type": "code",
   "execution_count": 98,
   "metadata": {},
   "outputs": [
    {
     "name": "stdout",
     "output_type": "stream",
     "text": [
      "['chocolate', 'vanilla', 'coffee']\n"
     ]
    }
   ],
   "source": [
    "class Bowl:\n",
    "    def __init__(self):\n",
    "        self.scoops = []   \n",
    "    def add_scoop(self, new_scoop):\n",
    "        self.scoops.append(new_scoop)\n",
    "    def flavors(self):\n",
    "        output = []\n",
    "        for one_scoop in self.scoops:\n",
    "            output.append(one_scoop.flavor)\n",
    "        return output\n",
    "\n",
    "b = Bowl()\n",
    "b.add_scoop(s1)\n",
    "b.add_scoop(s2)\n",
    "b.add_scoop(s3)\n",
    "print(b.flavors())  # ['chocolate', 'vanilla', 'coffee']"
   ]
  },
  {
   "cell_type": "code",
   "execution_count": 96,
   "metadata": {},
   "outputs": [
    {
     "data": {
      "text/plain": [
       "[<__main__.Scoop at 0x11079bb90>,\n",
       " <__main__.Scoop at 0x110799eb0>,\n",
       " <__main__.Scoop at 0x11079b290>]"
      ]
     },
     "execution_count": 96,
     "metadata": {},
     "output_type": "execute_result"
    }
   ],
   "source": [
    "b.scoops"
   ]
  },
  {
   "cell_type": "code",
   "execution_count": 97,
   "metadata": {},
   "outputs": [
    {
     "ename": "TypeError",
     "evalue": "Bowl.__init__() takes 1 positional argument but 4 were given",
     "output_type": "error",
     "traceback": [
      "\u001b[0;31m---------------------------------------------------------------------------\u001b[0m",
      "\u001b[0;31mTypeError\u001b[0m                                 Traceback (most recent call last)",
      "Cell \u001b[0;32mIn[97], line 1\u001b[0m\n\u001b[0;32m----> 1\u001b[0m \u001b[43mBowl\u001b[49m\u001b[43m(\u001b[49m\u001b[43ms1\u001b[49m\u001b[43m,\u001b[49m\u001b[43m \u001b[49m\u001b[43ms2\u001b[49m\u001b[43m,\u001b[49m\u001b[43m \u001b[49m\u001b[43ms3\u001b[49m\u001b[43m)\u001b[49m\n",
      "\u001b[0;31mTypeError\u001b[0m: Bowl.__init__() takes 1 positional argument but 4 were given"
     ]
    }
   ],
   "source": [
    "Bowl(s1, s2, s3)"
   ]
  },
  {
   "cell_type": "markdown",
   "metadata": {},
   "source": [
    "# So what?\n",
    "\n",
    "At the end of the day, we could think of each `Scoop` object as a string (flavor) and each `Bowl` object as a list (containing scoops). But it's far nicer and easier to think about scoops in a bowl. By thinking in this concrete way, the design and maintenance of our software becomes that much esier.\n",
    "\n",
    "Also: We can add functionality over time, both to `Scoop` and to `Bowl`."
   ]
  },
  {
   "cell_type": "code",
   "execution_count": 101,
   "metadata": {},
   "outputs": [
    {
     "name": "stdout",
     "output_type": "stream",
     "text": [
      "[]\n"
     ]
    }
   ],
   "source": [
    "class Bowl:\n",
    "    def __init__(self):\n",
    "        self.scoops = []\n",
    "                \n",
    "    def add_scoop(self, new_scoop):\n",
    "        self.scoops.append(new_scoop)\n",
    "    \n",
    "    def flavours(self):\n",
    "        self.flavour = []\n",
    "        return self.flavour\n",
    "    \n",
    "s1 = 'chocolate'\n",
    "s2 = 'vanilla'\n",
    "s3 = 'coffee'\n",
    "    \n",
    "b = Bowl()\n",
    "b.add_scoop(s1)\n",
    "b.add_scoop(s2)\n",
    "b.add_scoop(s3)\n",
    "print(b.flavours())"
   ]
  },
  {
   "cell_type": "code",
   "execution_count": 102,
   "metadata": {},
   "outputs": [
    {
     "name": "stdout",
     "output_type": "stream",
     "text": [
      "['Caramel', 'Chocolate', 'Vanilla']\n"
     ]
    }
   ],
   "source": [
    "class Scoop:\n",
    "    def __init__ (self, flavor):\n",
    "        self.flavor = flavor\n",
    "\n",
    "class Bowl:\n",
    "    def __init__(self):\n",
    "        self.scoops = []\n",
    "\n",
    "    def add_scoop(self, scoop):\n",
    "        self.scoops.append(scoop)\n",
    "\n",
    "    def flavors(self):\n",
    "        output =[]\n",
    "        for one_scoop in self.scoops:\n",
    "            output.append(one_scoop.flavor)\n",
    "        return output\n",
    "\n",
    "scoop1 = Scoop(\"Caramel\")\n",
    "scoop2 = Scoop(\"Chocolate\")\n",
    "scoop3 = Scoop(\"Vanilla\")\n",
    "\n",
    "b = Bowl()\n",
    "b.add_scoop(scoop1)\n",
    "b.add_scoop(scoop2)\n",
    "b.add_scoop(scoop3)\n",
    "print(b.flavors())"
   ]
  },
  {
   "cell_type": "code",
   "execution_count": 104,
   "metadata": {},
   "outputs": [
    {
     "data": {
      "text/plain": [
       "'Caramel'"
      ]
     },
     "execution_count": 104,
     "metadata": {},
     "output_type": "execute_result"
    }
   ],
   "source": [
    "b.scoops[0].flavor"
   ]
  },
  {
   "cell_type": "code",
   "execution_count": null,
   "metadata": {},
   "outputs": [],
   "source": []
  }
 ],
 "metadata": {
  "kernelspec": {
   "display_name": "Python 3 (ipykernel)",
   "language": "python",
   "name": "python3"
  },
  "language_info": {
   "codemirror_mode": {
    "name": "ipython",
    "version": 3
   },
   "file_extension": ".py",
   "mimetype": "text/x-python",
   "name": "python",
   "nbconvert_exporter": "python",
   "pygments_lexer": "ipython3",
   "version": "3.12.1"
  }
 },
 "nbformat": 4,
 "nbformat_minor": 4
}
