{
 "cells": [
  {
   "cell_type": "markdown",
   "metadata": {},
   "source": [
    "# Object-oriented bootcamp, day 1\n"
   ]
  },
  {
   "cell_type": "markdown",
   "metadata": {},
   "source": [
    "# Agenda\n",
    "\n",
    "1. Intro to objects\n",
    "    - What are objects?\n",
    "    - In Python, everything is an object\n",
    "    - Creating your own data structures...\n",
    "    - ...creating data structures using classes and objects\n",
    "    - What happens when you create a new object?\n",
    "    - Attributes\n",
    "    - Complex objects and composition\n",
    "2. Methods\n",
    "    - Writing methods\n",
    "    - The `self` parameter\n",
    "    - Other parameters, and other arguments\n",
    "3. Magic methods\n",
    "4. Class attributes\n",
    "5. Attribute lookup (ICPO rule)\n",
    "6. Inheritance\n",
    "    - The three paradigms of method inheritance\n",
    "    - Attribute inheritance\n",
    "8. Next steps -- where to from here?"
   ]
  },
  {
   "cell_type": "markdown",
   "metadata": {},
   "source": [
    "# Jupyter \n",
    "\n",
    "Jupyter is a Web-based tool for writing Python code.  If you can install Jupyter yourself, then great! You don't have to, though -- if you want to use PyCharm or VSCode, then that's fine, as well. (VSCode has a free plugin for Jupyter, if you want.)\n",
    "\n",
    "If you want to use a notebook and don't have Jupyter installed, you can use Google Colab. \n",
    "\n",
    "I can use Jupyter for both text/documentation (in \"Markdown\" mode) and also for Python code (in \"code\" mode). I can switch between the two with the menu at the top of the page.\n",
    "\n",
    "To indicate that I'm done editing a cell, I use shift+Enter."
   ]
  },
  {
   "cell_type": "code",
   "execution_count": 1,
   "metadata": {},
   "outputs": [
    {
     "name": "stdout",
     "output_type": "stream",
     "text": [
      "Hello, world!\n"
     ]
    }
   ],
   "source": [
    "# now I'm in a code cell\n",
    "\n",
    "print('Hello, world!')  # shift + enter executes the code"
   ]
  },
  {
   "cell_type": "code",
   "execution_count": 2,
   "metadata": {},
   "outputs": [
    {
     "name": "stdout",
     "output_type": "stream",
     "text": [
      "100\n"
     ]
    }
   ],
   "source": [
    "x = 100\n",
    "\n",
    "print(x)"
   ]
  },
  {
   "cell_type": "code",
   "execution_count": 3,
   "metadata": {},
   "outputs": [
    {
     "data": {
      "text/plain": [
       "100"
      ]
     },
     "execution_count": 3,
     "metadata": {},
     "output_type": "execute_result"
    }
   ],
   "source": [
    "# in Jupyter, if the final line of a code cell is an expression, we see the value right away.\n",
    "\n",
    "x    "
   ]
  },
  {
   "cell_type": "code",
   "execution_count": 4,
   "metadata": {},
   "outputs": [
    {
     "data": {
      "text/plain": [
       "1000000"
      ]
     },
     "execution_count": 4,
     "metadata": {},
     "output_type": "execute_result"
    }
   ],
   "source": [
    "x**3"
   ]
  },
  {
   "cell_type": "markdown",
   "metadata": {},
   "source": [
    "# What are objects?\n",
    "\n",
    "Software has always been difficult to write, and even more difficult to maintain. Trying to find ways to maintain software has been going on for decades already.\n",
    "\n",
    "Organizing code so that you can find bugs and improve the code is crucial.\n",
    "\n",
    "Back in the 1970s, people were thinking about this. One of those people is named Alan Kay. Alan Kay didn't work on the front end of things, that end users would see. Rather, the thought about how to design software. He thought that it would be easier to maintain software if we could mimic the organization of a biological structure.\n",
    "\n",
    "Kay said that we could structure our programs like the human body, or an animal:\n",
    "\n",
    "- Our body has many different types of cells. Each type of cell sends and receives different types of messages.\n",
    "- We could structure our programs such that they contained different kinds of cells, each of which sent and received different kinds of messages.\n",
    "\n",
    "You can imagine:\n",
    "- User \"cell\" that would send some messages, and receive others\n",
    "- Security \"cell\" that would send some messages, and receive others\n",
    "\n",
    "This was the beginning of object-oriented programming:\n",
    "- The \"cells\" were called \"objects.\" Each thing in your program, each data structure, is actually a combination of data + actions (messages it can send, and messages it can receive)\n",
    "- You'll have many cells of the same type. Each type of cell was known as a \"class.\"\n",
    "- Kay talked about sending messages. But nowadays, we talk about \"calling methods.\"\n",
    "\n",
    "Kay created a programming language called Smalltalk.\n",
    "\n",
    "Python is object-oriented, meaning that it takes some inspiration from Smalltalk's ideas. But it has differnet ideas about how to go about implementing objects.\n",
    "\n",
    "Object-oriented programming is *NOT* a panacea for software problems. It is also not a religion.\n",
    "\n",
    "Object-oriented programming is a TECHNIQUE for MANAGING YOUR SOFTWARE CODE.\n",
    "\n",
    "This means that if you write a tiny program, you probably don't need to use objects. But it means that if you want to take advantage of someone else's code, and they did use objects, you'll likely want to do that.\n",
    "\n"
   ]
  },
  {
   "cell_type": "markdown",
   "metadata": {},
   "source": [
    "# "
   ]
  },
  {
   "cell_type": "code",
   "execution_count": null,
   "metadata": {},
   "outputs": [],
   "source": []
  }
 ],
 "metadata": {
  "kernelspec": {
   "display_name": "Python 3 (ipykernel)",
   "language": "python",
   "name": "python3"
  },
  "language_info": {
   "codemirror_mode": {
    "name": "ipython",
    "version": 3
   },
   "file_extension": ".py",
   "mimetype": "text/x-python",
   "name": "python",
   "nbconvert_exporter": "python",
   "pygments_lexer": "ipython3",
   "version": "3.12.1"
  }
 },
 "nbformat": 4,
 "nbformat_minor": 4
}
